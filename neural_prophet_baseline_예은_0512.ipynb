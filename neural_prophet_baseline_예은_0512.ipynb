{
  "nbformat": 4,
  "nbformat_minor": 0,
  "metadata": {
    "colab": {
      "name": "neural_prophet_baseline_예은_0512.ipynb",
      "provenance": [],
      "collapsed_sections": [
        "4lBhEOpeG40G",
        "UKIJkVrcWDGX",
        "hqy5R6h_XJNl",
        "WWmeW7zJiEkQ",
        "SQLCRIVkloAy"
      ],
      "include_colab_link": true
    },
    "kernelspec": {
      "name": "python3",
      "display_name": "Python 3"
    },
    "language_info": {
      "name": "python"
    },
    "widgets": {
      "application/vnd.jupyter.widget-state+json": {
        "38453ba5c9484752a5aee459c4cbb03e": {
          "model_module": "@jupyter-widgets/controls",
          "model_name": "HBoxModel",
          "state": {
            "_view_name": "HBoxView",
            "_dom_classes": [],
            "_model_name": "HBoxModel",
            "_view_module": "@jupyter-widgets/controls",
            "_model_module_version": "1.5.0",
            "_view_count": null,
            "_view_module_version": "1.5.0",
            "box_style": "",
            "layout": "IPY_MODEL_6cf710b736ee42649d9a0ae9f29c8b77",
            "_model_module": "@jupyter-widgets/controls",
            "children": [
              "IPY_MODEL_797065ed42074b56827c0e6f8e505894",
              "IPY_MODEL_72e80a6bfb674482b7b46ec33e0c3920",
              "IPY_MODEL_9a5d068c285f4822af05d8ebe3d0be6d"
            ]
          }
        },
        "6cf710b736ee42649d9a0ae9f29c8b77": {
          "model_module": "@jupyter-widgets/base",
          "model_name": "LayoutModel",
          "state": {
            "_view_name": "LayoutView",
            "grid_template_rows": null,
            "right": null,
            "justify_content": null,
            "_view_module": "@jupyter-widgets/base",
            "overflow": null,
            "_model_module_version": "1.2.0",
            "_view_count": null,
            "flex_flow": null,
            "width": null,
            "min_width": null,
            "border": null,
            "align_items": null,
            "bottom": null,
            "_model_module": "@jupyter-widgets/base",
            "top": null,
            "grid_column": null,
            "overflow_y": null,
            "overflow_x": null,
            "grid_auto_flow": null,
            "grid_area": null,
            "grid_template_columns": null,
            "flex": null,
            "_model_name": "LayoutModel",
            "justify_items": null,
            "grid_row": null,
            "max_height": null,
            "align_content": null,
            "visibility": null,
            "align_self": null,
            "height": null,
            "min_height": null,
            "padding": null,
            "grid_auto_rows": null,
            "grid_gap": null,
            "max_width": null,
            "order": null,
            "_view_module_version": "1.2.0",
            "grid_template_areas": null,
            "object_position": null,
            "object_fit": null,
            "grid_auto_columns": null,
            "margin": null,
            "display": null,
            "left": null
          }
        },
        "797065ed42074b56827c0e6f8e505894": {
          "model_module": "@jupyter-widgets/controls",
          "model_name": "HTMLModel",
          "state": {
            "_view_name": "HTMLView",
            "style": "IPY_MODEL_0a8909de107a458dadbc17baf8ea11c4",
            "_dom_classes": [],
            "description": "",
            "_model_name": "HTMLModel",
            "placeholder": "​",
            "_view_module": "@jupyter-widgets/controls",
            "_model_module_version": "1.5.0",
            "value": " 99%",
            "_view_count": null,
            "_view_module_version": "1.5.0",
            "description_tooltip": null,
            "_model_module": "@jupyter-widgets/controls",
            "layout": "IPY_MODEL_15a4b923ef8b41bfbb211b0fa1ef3ce8"
          }
        },
        "72e80a6bfb674482b7b46ec33e0c3920": {
          "model_module": "@jupyter-widgets/controls",
          "model_name": "FloatProgressModel",
          "state": {
            "_view_name": "ProgressView",
            "style": "IPY_MODEL_9954fa833de14418b2c2337863d501e1",
            "_dom_classes": [],
            "description": "",
            "_model_name": "FloatProgressModel",
            "bar_style": "danger",
            "max": 100,
            "_view_module": "@jupyter-widgets/controls",
            "_model_module_version": "1.5.0",
            "value": 99,
            "_view_count": null,
            "_view_module_version": "1.5.0",
            "orientation": "horizontal",
            "min": 0,
            "description_tooltip": null,
            "_model_module": "@jupyter-widgets/controls",
            "layout": "IPY_MODEL_9835699cd29b47d78802bb8360f6ddf4"
          }
        },
        "9a5d068c285f4822af05d8ebe3d0be6d": {
          "model_module": "@jupyter-widgets/controls",
          "model_name": "HTMLModel",
          "state": {
            "_view_name": "HTMLView",
            "style": "IPY_MODEL_b6955ed8ae2a404cbfa3423040abb60c",
            "_dom_classes": [],
            "description": "",
            "_model_name": "HTMLModel",
            "placeholder": "​",
            "_view_module": "@jupyter-widgets/controls",
            "_model_module_version": "1.5.0",
            "value": " 99/100 [00:00&lt;00:00, 220.86it/s]",
            "_view_count": null,
            "_view_module_version": "1.5.0",
            "description_tooltip": null,
            "_model_module": "@jupyter-widgets/controls",
            "layout": "IPY_MODEL_dc5be058f5064fc485538a69e397fb97"
          }
        },
        "0a8909de107a458dadbc17baf8ea11c4": {
          "model_module": "@jupyter-widgets/controls",
          "model_name": "DescriptionStyleModel",
          "state": {
            "_view_name": "StyleView",
            "_model_name": "DescriptionStyleModel",
            "description_width": "",
            "_view_module": "@jupyter-widgets/base",
            "_model_module_version": "1.5.0",
            "_view_count": null,
            "_view_module_version": "1.2.0",
            "_model_module": "@jupyter-widgets/controls"
          }
        },
        "15a4b923ef8b41bfbb211b0fa1ef3ce8": {
          "model_module": "@jupyter-widgets/base",
          "model_name": "LayoutModel",
          "state": {
            "_view_name": "LayoutView",
            "grid_template_rows": null,
            "right": null,
            "justify_content": null,
            "_view_module": "@jupyter-widgets/base",
            "overflow": null,
            "_model_module_version": "1.2.0",
            "_view_count": null,
            "flex_flow": null,
            "width": null,
            "min_width": null,
            "border": null,
            "align_items": null,
            "bottom": null,
            "_model_module": "@jupyter-widgets/base",
            "top": null,
            "grid_column": null,
            "overflow_y": null,
            "overflow_x": null,
            "grid_auto_flow": null,
            "grid_area": null,
            "grid_template_columns": null,
            "flex": null,
            "_model_name": "LayoutModel",
            "justify_items": null,
            "grid_row": null,
            "max_height": null,
            "align_content": null,
            "visibility": null,
            "align_self": null,
            "height": null,
            "min_height": null,
            "padding": null,
            "grid_auto_rows": null,
            "grid_gap": null,
            "max_width": null,
            "order": null,
            "_view_module_version": "1.2.0",
            "grid_template_areas": null,
            "object_position": null,
            "object_fit": null,
            "grid_auto_columns": null,
            "margin": null,
            "display": null,
            "left": null
          }
        },
        "9954fa833de14418b2c2337863d501e1": {
          "model_module": "@jupyter-widgets/controls",
          "model_name": "ProgressStyleModel",
          "state": {
            "_view_name": "StyleView",
            "_model_name": "ProgressStyleModel",
            "description_width": "",
            "_view_module": "@jupyter-widgets/base",
            "_model_module_version": "1.5.0",
            "_view_count": null,
            "_view_module_version": "1.2.0",
            "bar_color": null,
            "_model_module": "@jupyter-widgets/controls"
          }
        },
        "9835699cd29b47d78802bb8360f6ddf4": {
          "model_module": "@jupyter-widgets/base",
          "model_name": "LayoutModel",
          "state": {
            "_view_name": "LayoutView",
            "grid_template_rows": null,
            "right": null,
            "justify_content": null,
            "_view_module": "@jupyter-widgets/base",
            "overflow": null,
            "_model_module_version": "1.2.0",
            "_view_count": null,
            "flex_flow": null,
            "width": null,
            "min_width": null,
            "border": null,
            "align_items": null,
            "bottom": null,
            "_model_module": "@jupyter-widgets/base",
            "top": null,
            "grid_column": null,
            "overflow_y": null,
            "overflow_x": null,
            "grid_auto_flow": null,
            "grid_area": null,
            "grid_template_columns": null,
            "flex": null,
            "_model_name": "LayoutModel",
            "justify_items": null,
            "grid_row": null,
            "max_height": null,
            "align_content": null,
            "visibility": null,
            "align_self": null,
            "height": null,
            "min_height": null,
            "padding": null,
            "grid_auto_rows": null,
            "grid_gap": null,
            "max_width": null,
            "order": null,
            "_view_module_version": "1.2.0",
            "grid_template_areas": null,
            "object_position": null,
            "object_fit": null,
            "grid_auto_columns": null,
            "margin": null,
            "display": null,
            "left": null
          }
        },
        "b6955ed8ae2a404cbfa3423040abb60c": {
          "model_module": "@jupyter-widgets/controls",
          "model_name": "DescriptionStyleModel",
          "state": {
            "_view_name": "StyleView",
            "_model_name": "DescriptionStyleModel",
            "description_width": "",
            "_view_module": "@jupyter-widgets/base",
            "_model_module_version": "1.5.0",
            "_view_count": null,
            "_view_module_version": "1.2.0",
            "_model_module": "@jupyter-widgets/controls"
          }
        },
        "dc5be058f5064fc485538a69e397fb97": {
          "model_module": "@jupyter-widgets/base",
          "model_name": "LayoutModel",
          "state": {
            "_view_name": "LayoutView",
            "grid_template_rows": null,
            "right": null,
            "justify_content": null,
            "_view_module": "@jupyter-widgets/base",
            "overflow": null,
            "_model_module_version": "1.2.0",
            "_view_count": null,
            "flex_flow": null,
            "width": null,
            "min_width": null,
            "border": null,
            "align_items": null,
            "bottom": null,
            "_model_module": "@jupyter-widgets/base",
            "top": null,
            "grid_column": null,
            "overflow_y": null,
            "overflow_x": null,
            "grid_auto_flow": null,
            "grid_area": null,
            "grid_template_columns": null,
            "flex": null,
            "_model_name": "LayoutModel",
            "justify_items": null,
            "grid_row": null,
            "max_height": null,
            "align_content": null,
            "visibility": null,
            "align_self": null,
            "height": null,
            "min_height": null,
            "padding": null,
            "grid_auto_rows": null,
            "grid_gap": null,
            "max_width": null,
            "order": null,
            "_view_module_version": "1.2.0",
            "grid_template_areas": null,
            "object_position": null,
            "object_fit": null,
            "grid_auto_columns": null,
            "margin": null,
            "display": null,
            "left": null
          }
        },
        "b2bd7219882048f18255c9f343ce2811": {
          "model_module": "@jupyter-widgets/controls",
          "model_name": "HBoxModel",
          "state": {
            "_view_name": "HBoxView",
            "_dom_classes": [],
            "_model_name": "HBoxModel",
            "_view_module": "@jupyter-widgets/controls",
            "_model_module_version": "1.5.0",
            "_view_count": null,
            "_view_module_version": "1.5.0",
            "box_style": "",
            "layout": "IPY_MODEL_389140a7774747fdab8af1d04fc44b5d",
            "_model_module": "@jupyter-widgets/controls",
            "children": [
              "IPY_MODEL_fce4c52b822c4bc7a3dba995e2d80f84",
              "IPY_MODEL_b03aae49eeff4adf96bdd03c305b1fee",
              "IPY_MODEL_0d475b55592a43878664d03aa42ec38d"
            ]
          }
        },
        "389140a7774747fdab8af1d04fc44b5d": {
          "model_module": "@jupyter-widgets/base",
          "model_name": "LayoutModel",
          "state": {
            "_view_name": "LayoutView",
            "grid_template_rows": null,
            "right": null,
            "justify_content": null,
            "_view_module": "@jupyter-widgets/base",
            "overflow": null,
            "_model_module_version": "1.2.0",
            "_view_count": null,
            "flex_flow": null,
            "width": null,
            "min_width": null,
            "border": null,
            "align_items": null,
            "bottom": null,
            "_model_module": "@jupyter-widgets/base",
            "top": null,
            "grid_column": null,
            "overflow_y": null,
            "overflow_x": null,
            "grid_auto_flow": null,
            "grid_area": null,
            "grid_template_columns": null,
            "flex": null,
            "_model_name": "LayoutModel",
            "justify_items": null,
            "grid_row": null,
            "max_height": null,
            "align_content": null,
            "visibility": null,
            "align_self": null,
            "height": null,
            "min_height": null,
            "padding": null,
            "grid_auto_rows": null,
            "grid_gap": null,
            "max_width": null,
            "order": null,
            "_view_module_version": "1.2.0",
            "grid_template_areas": null,
            "object_position": null,
            "object_fit": null,
            "grid_auto_columns": null,
            "margin": null,
            "display": null,
            "left": null
          }
        },
        "fce4c52b822c4bc7a3dba995e2d80f84": {
          "model_module": "@jupyter-widgets/controls",
          "model_name": "HTMLModel",
          "state": {
            "_view_name": "HTMLView",
            "style": "IPY_MODEL_1e97d7f23c814768853f2ea6b8dc232e",
            "_dom_classes": [],
            "description": "",
            "_model_name": "HTMLModel",
            "placeholder": "​",
            "_view_module": "@jupyter-widgets/controls",
            "_model_module_version": "1.5.0",
            "value": " 99%",
            "_view_count": null,
            "_view_module_version": "1.5.0",
            "description_tooltip": null,
            "_model_module": "@jupyter-widgets/controls",
            "layout": "IPY_MODEL_4a0b21bd9b0041e6b7843a5e07091968"
          }
        },
        "b03aae49eeff4adf96bdd03c305b1fee": {
          "model_module": "@jupyter-widgets/controls",
          "model_name": "FloatProgressModel",
          "state": {
            "_view_name": "ProgressView",
            "style": "IPY_MODEL_a192b42e4c414c4ebf721f0ef228893b",
            "_dom_classes": [],
            "description": "",
            "_model_name": "FloatProgressModel",
            "bar_style": "danger",
            "max": 100,
            "_view_module": "@jupyter-widgets/controls",
            "_model_module_version": "1.5.0",
            "value": 99,
            "_view_count": null,
            "_view_module_version": "1.5.0",
            "orientation": "horizontal",
            "min": 0,
            "description_tooltip": null,
            "_model_module": "@jupyter-widgets/controls",
            "layout": "IPY_MODEL_d5276dac41914d0e978b4a7ab9c1b45c"
          }
        },
        "0d475b55592a43878664d03aa42ec38d": {
          "model_module": "@jupyter-widgets/controls",
          "model_name": "HTMLModel",
          "state": {
            "_view_name": "HTMLView",
            "style": "IPY_MODEL_1c048a043dde431c977f1975e2b39cdd",
            "_dom_classes": [],
            "description": "",
            "_model_name": "HTMLModel",
            "placeholder": "​",
            "_view_module": "@jupyter-widgets/controls",
            "_model_module_version": "1.5.0",
            "value": " 99/100 [00:00&lt;00:00, 202.41it/s]",
            "_view_count": null,
            "_view_module_version": "1.5.0",
            "description_tooltip": null,
            "_model_module": "@jupyter-widgets/controls",
            "layout": "IPY_MODEL_e5854d0c019b4b59abb8b972b0943331"
          }
        },
        "1e97d7f23c814768853f2ea6b8dc232e": {
          "model_module": "@jupyter-widgets/controls",
          "model_name": "DescriptionStyleModel",
          "state": {
            "_view_name": "StyleView",
            "_model_name": "DescriptionStyleModel",
            "description_width": "",
            "_view_module": "@jupyter-widgets/base",
            "_model_module_version": "1.5.0",
            "_view_count": null,
            "_view_module_version": "1.2.0",
            "_model_module": "@jupyter-widgets/controls"
          }
        },
        "4a0b21bd9b0041e6b7843a5e07091968": {
          "model_module": "@jupyter-widgets/base",
          "model_name": "LayoutModel",
          "state": {
            "_view_name": "LayoutView",
            "grid_template_rows": null,
            "right": null,
            "justify_content": null,
            "_view_module": "@jupyter-widgets/base",
            "overflow": null,
            "_model_module_version": "1.2.0",
            "_view_count": null,
            "flex_flow": null,
            "width": null,
            "min_width": null,
            "border": null,
            "align_items": null,
            "bottom": null,
            "_model_module": "@jupyter-widgets/base",
            "top": null,
            "grid_column": null,
            "overflow_y": null,
            "overflow_x": null,
            "grid_auto_flow": null,
            "grid_area": null,
            "grid_template_columns": null,
            "flex": null,
            "_model_name": "LayoutModel",
            "justify_items": null,
            "grid_row": null,
            "max_height": null,
            "align_content": null,
            "visibility": null,
            "align_self": null,
            "height": null,
            "min_height": null,
            "padding": null,
            "grid_auto_rows": null,
            "grid_gap": null,
            "max_width": null,
            "order": null,
            "_view_module_version": "1.2.0",
            "grid_template_areas": null,
            "object_position": null,
            "object_fit": null,
            "grid_auto_columns": null,
            "margin": null,
            "display": null,
            "left": null
          }
        },
        "a192b42e4c414c4ebf721f0ef228893b": {
          "model_module": "@jupyter-widgets/controls",
          "model_name": "ProgressStyleModel",
          "state": {
            "_view_name": "StyleView",
            "_model_name": "ProgressStyleModel",
            "description_width": "",
            "_view_module": "@jupyter-widgets/base",
            "_model_module_version": "1.5.0",
            "_view_count": null,
            "_view_module_version": "1.2.0",
            "bar_color": null,
            "_model_module": "@jupyter-widgets/controls"
          }
        },
        "d5276dac41914d0e978b4a7ab9c1b45c": {
          "model_module": "@jupyter-widgets/base",
          "model_name": "LayoutModel",
          "state": {
            "_view_name": "LayoutView",
            "grid_template_rows": null,
            "right": null,
            "justify_content": null,
            "_view_module": "@jupyter-widgets/base",
            "overflow": null,
            "_model_module_version": "1.2.0",
            "_view_count": null,
            "flex_flow": null,
            "width": null,
            "min_width": null,
            "border": null,
            "align_items": null,
            "bottom": null,
            "_model_module": "@jupyter-widgets/base",
            "top": null,
            "grid_column": null,
            "overflow_y": null,
            "overflow_x": null,
            "grid_auto_flow": null,
            "grid_area": null,
            "grid_template_columns": null,
            "flex": null,
            "_model_name": "LayoutModel",
            "justify_items": null,
            "grid_row": null,
            "max_height": null,
            "align_content": null,
            "visibility": null,
            "align_self": null,
            "height": null,
            "min_height": null,
            "padding": null,
            "grid_auto_rows": null,
            "grid_gap": null,
            "max_width": null,
            "order": null,
            "_view_module_version": "1.2.0",
            "grid_template_areas": null,
            "object_position": null,
            "object_fit": null,
            "grid_auto_columns": null,
            "margin": null,
            "display": null,
            "left": null
          }
        },
        "1c048a043dde431c977f1975e2b39cdd": {
          "model_module": "@jupyter-widgets/controls",
          "model_name": "DescriptionStyleModel",
          "state": {
            "_view_name": "StyleView",
            "_model_name": "DescriptionStyleModel",
            "description_width": "",
            "_view_module": "@jupyter-widgets/base",
            "_model_module_version": "1.5.0",
            "_view_count": null,
            "_view_module_version": "1.2.0",
            "_model_module": "@jupyter-widgets/controls"
          }
        },
        "e5854d0c019b4b59abb8b972b0943331": {
          "model_module": "@jupyter-widgets/base",
          "model_name": "LayoutModel",
          "state": {
            "_view_name": "LayoutView",
            "grid_template_rows": null,
            "right": null,
            "justify_content": null,
            "_view_module": "@jupyter-widgets/base",
            "overflow": null,
            "_model_module_version": "1.2.0",
            "_view_count": null,
            "flex_flow": null,
            "width": null,
            "min_width": null,
            "border": null,
            "align_items": null,
            "bottom": null,
            "_model_module": "@jupyter-widgets/base",
            "top": null,
            "grid_column": null,
            "overflow_y": null,
            "overflow_x": null,
            "grid_auto_flow": null,
            "grid_area": null,
            "grid_template_columns": null,
            "flex": null,
            "_model_name": "LayoutModel",
            "justify_items": null,
            "grid_row": null,
            "max_height": null,
            "align_content": null,
            "visibility": null,
            "align_self": null,
            "height": null,
            "min_height": null,
            "padding": null,
            "grid_auto_rows": null,
            "grid_gap": null,
            "max_width": null,
            "order": null,
            "_view_module_version": "1.2.0",
            "grid_template_areas": null,
            "object_position": null,
            "object_fit": null,
            "grid_auto_columns": null,
            "margin": null,
            "display": null,
            "left": null
          }
        },
        "cee5742fcf8a44cfbc694de5155bd382": {
          "model_module": "@jupyter-widgets/controls",
          "model_name": "HBoxModel",
          "state": {
            "_view_name": "HBoxView",
            "_dom_classes": [],
            "_model_name": "HBoxModel",
            "_view_module": "@jupyter-widgets/controls",
            "_model_module_version": "1.5.0",
            "_view_count": null,
            "_view_module_version": "1.5.0",
            "box_style": "",
            "layout": "IPY_MODEL_3aac270e5f884729901aa3c84eff6667",
            "_model_module": "@jupyter-widgets/controls",
            "children": [
              "IPY_MODEL_98e0f600297a49308527320493c8f918",
              "IPY_MODEL_bb96105573a54d03903393d121756163",
              "IPY_MODEL_e094a9d021e04d76bbbd5397f9abe1c9"
            ]
          }
        },
        "3aac270e5f884729901aa3c84eff6667": {
          "model_module": "@jupyter-widgets/base",
          "model_name": "LayoutModel",
          "state": {
            "_view_name": "LayoutView",
            "grid_template_rows": null,
            "right": null,
            "justify_content": null,
            "_view_module": "@jupyter-widgets/base",
            "overflow": null,
            "_model_module_version": "1.2.0",
            "_view_count": null,
            "flex_flow": null,
            "width": null,
            "min_width": null,
            "border": null,
            "align_items": null,
            "bottom": null,
            "_model_module": "@jupyter-widgets/base",
            "top": null,
            "grid_column": null,
            "overflow_y": null,
            "overflow_x": null,
            "grid_auto_flow": null,
            "grid_area": null,
            "grid_template_columns": null,
            "flex": null,
            "_model_name": "LayoutModel",
            "justify_items": null,
            "grid_row": null,
            "max_height": null,
            "align_content": null,
            "visibility": null,
            "align_self": null,
            "height": null,
            "min_height": null,
            "padding": null,
            "grid_auto_rows": null,
            "grid_gap": null,
            "max_width": null,
            "order": null,
            "_view_module_version": "1.2.0",
            "grid_template_areas": null,
            "object_position": null,
            "object_fit": null,
            "grid_auto_columns": null,
            "margin": null,
            "display": null,
            "left": null
          }
        },
        "98e0f600297a49308527320493c8f918": {
          "model_module": "@jupyter-widgets/controls",
          "model_name": "HTMLModel",
          "state": {
            "_view_name": "HTMLView",
            "style": "IPY_MODEL_45edf151bd4f4f0cab026d9f64d50cb8",
            "_dom_classes": [],
            "description": "",
            "_model_name": "HTMLModel",
            "placeholder": "​",
            "_view_module": "@jupyter-widgets/controls",
            "_model_module_version": "1.5.0",
            "value": "100%",
            "_view_count": null,
            "_view_module_version": "1.5.0",
            "description_tooltip": null,
            "_model_module": "@jupyter-widgets/controls",
            "layout": "IPY_MODEL_df49b12f07e14c979ebf4073d04cf96f"
          }
        },
        "bb96105573a54d03903393d121756163": {
          "model_module": "@jupyter-widgets/controls",
          "model_name": "FloatProgressModel",
          "state": {
            "_view_name": "ProgressView",
            "style": "IPY_MODEL_0c187712e7954ae99d3a1496408126df",
            "_dom_classes": [],
            "description": "",
            "_model_name": "FloatProgressModel",
            "bar_style": "success",
            "max": 100,
            "_view_module": "@jupyter-widgets/controls",
            "_model_module_version": "1.5.0",
            "value": 100,
            "_view_count": null,
            "_view_module_version": "1.5.0",
            "orientation": "horizontal",
            "min": 0,
            "description_tooltip": null,
            "_model_module": "@jupyter-widgets/controls",
            "layout": "IPY_MODEL_8ddc7a4e2f804f55b1c7e7d7703536de"
          }
        },
        "e094a9d021e04d76bbbd5397f9abe1c9": {
          "model_module": "@jupyter-widgets/controls",
          "model_name": "HTMLModel",
          "state": {
            "_view_name": "HTMLView",
            "style": "IPY_MODEL_9c5f9367fe6649078df7894ca266b7c6",
            "_dom_classes": [],
            "description": "",
            "_model_name": "HTMLModel",
            "placeholder": "​",
            "_view_module": "@jupyter-widgets/controls",
            "_model_module_version": "1.5.0",
            "value": " 100/100 [00:00&lt;00:00, 252.68it/s]",
            "_view_count": null,
            "_view_module_version": "1.5.0",
            "description_tooltip": null,
            "_model_module": "@jupyter-widgets/controls",
            "layout": "IPY_MODEL_1989d9d50a094bd48ade96853d8dcb2f"
          }
        },
        "45edf151bd4f4f0cab026d9f64d50cb8": {
          "model_module": "@jupyter-widgets/controls",
          "model_name": "DescriptionStyleModel",
          "state": {
            "_view_name": "StyleView",
            "_model_name": "DescriptionStyleModel",
            "description_width": "",
            "_view_module": "@jupyter-widgets/base",
            "_model_module_version": "1.5.0",
            "_view_count": null,
            "_view_module_version": "1.2.0",
            "_model_module": "@jupyter-widgets/controls"
          }
        },
        "df49b12f07e14c979ebf4073d04cf96f": {
          "model_module": "@jupyter-widgets/base",
          "model_name": "LayoutModel",
          "state": {
            "_view_name": "LayoutView",
            "grid_template_rows": null,
            "right": null,
            "justify_content": null,
            "_view_module": "@jupyter-widgets/base",
            "overflow": null,
            "_model_module_version": "1.2.0",
            "_view_count": null,
            "flex_flow": null,
            "width": null,
            "min_width": null,
            "border": null,
            "align_items": null,
            "bottom": null,
            "_model_module": "@jupyter-widgets/base",
            "top": null,
            "grid_column": null,
            "overflow_y": null,
            "overflow_x": null,
            "grid_auto_flow": null,
            "grid_area": null,
            "grid_template_columns": null,
            "flex": null,
            "_model_name": "LayoutModel",
            "justify_items": null,
            "grid_row": null,
            "max_height": null,
            "align_content": null,
            "visibility": null,
            "align_self": null,
            "height": null,
            "min_height": null,
            "padding": null,
            "grid_auto_rows": null,
            "grid_gap": null,
            "max_width": null,
            "order": null,
            "_view_module_version": "1.2.0",
            "grid_template_areas": null,
            "object_position": null,
            "object_fit": null,
            "grid_auto_columns": null,
            "margin": null,
            "display": null,
            "left": null
          }
        },
        "0c187712e7954ae99d3a1496408126df": {
          "model_module": "@jupyter-widgets/controls",
          "model_name": "ProgressStyleModel",
          "state": {
            "_view_name": "StyleView",
            "_model_name": "ProgressStyleModel",
            "description_width": "",
            "_view_module": "@jupyter-widgets/base",
            "_model_module_version": "1.5.0",
            "_view_count": null,
            "_view_module_version": "1.2.0",
            "bar_color": null,
            "_model_module": "@jupyter-widgets/controls"
          }
        },
        "8ddc7a4e2f804f55b1c7e7d7703536de": {
          "model_module": "@jupyter-widgets/base",
          "model_name": "LayoutModel",
          "state": {
            "_view_name": "LayoutView",
            "grid_template_rows": null,
            "right": null,
            "justify_content": null,
            "_view_module": "@jupyter-widgets/base",
            "overflow": null,
            "_model_module_version": "1.2.0",
            "_view_count": null,
            "flex_flow": null,
            "width": null,
            "min_width": null,
            "border": null,
            "align_items": null,
            "bottom": null,
            "_model_module": "@jupyter-widgets/base",
            "top": null,
            "grid_column": null,
            "overflow_y": null,
            "overflow_x": null,
            "grid_auto_flow": null,
            "grid_area": null,
            "grid_template_columns": null,
            "flex": null,
            "_model_name": "LayoutModel",
            "justify_items": null,
            "grid_row": null,
            "max_height": null,
            "align_content": null,
            "visibility": null,
            "align_self": null,
            "height": null,
            "min_height": null,
            "padding": null,
            "grid_auto_rows": null,
            "grid_gap": null,
            "max_width": null,
            "order": null,
            "_view_module_version": "1.2.0",
            "grid_template_areas": null,
            "object_position": null,
            "object_fit": null,
            "grid_auto_columns": null,
            "margin": null,
            "display": null,
            "left": null
          }
        },
        "9c5f9367fe6649078df7894ca266b7c6": {
          "model_module": "@jupyter-widgets/controls",
          "model_name": "DescriptionStyleModel",
          "state": {
            "_view_name": "StyleView",
            "_model_name": "DescriptionStyleModel",
            "description_width": "",
            "_view_module": "@jupyter-widgets/base",
            "_model_module_version": "1.5.0",
            "_view_count": null,
            "_view_module_version": "1.2.0",
            "_model_module": "@jupyter-widgets/controls"
          }
        },
        "1989d9d50a094bd48ade96853d8dcb2f": {
          "model_module": "@jupyter-widgets/base",
          "model_name": "LayoutModel",
          "state": {
            "_view_name": "LayoutView",
            "grid_template_rows": null,
            "right": null,
            "justify_content": null,
            "_view_module": "@jupyter-widgets/base",
            "overflow": null,
            "_model_module_version": "1.2.0",
            "_view_count": null,
            "flex_flow": null,
            "width": null,
            "min_width": null,
            "border": null,
            "align_items": null,
            "bottom": null,
            "_model_module": "@jupyter-widgets/base",
            "top": null,
            "grid_column": null,
            "overflow_y": null,
            "overflow_x": null,
            "grid_auto_flow": null,
            "grid_area": null,
            "grid_template_columns": null,
            "flex": null,
            "_model_name": "LayoutModel",
            "justify_items": null,
            "grid_row": null,
            "max_height": null,
            "align_content": null,
            "visibility": null,
            "align_self": null,
            "height": null,
            "min_height": null,
            "padding": null,
            "grid_auto_rows": null,
            "grid_gap": null,
            "max_width": null,
            "order": null,
            "_view_module_version": "1.2.0",
            "grid_template_areas": null,
            "object_position": null,
            "object_fit": null,
            "grid_auto_columns": null,
            "margin": null,
            "display": null,
            "left": null
          }
        },
        "f9d5a34904a64b1baec6c563a79bf265": {
          "model_module": "@jupyter-widgets/controls",
          "model_name": "HBoxModel",
          "state": {
            "_view_name": "HBoxView",
            "_dom_classes": [],
            "_model_name": "HBoxModel",
            "_view_module": "@jupyter-widgets/controls",
            "_model_module_version": "1.5.0",
            "_view_count": null,
            "_view_module_version": "1.5.0",
            "box_style": "",
            "layout": "IPY_MODEL_ac27ac28d2f5463398d749c7e11bc03b",
            "_model_module": "@jupyter-widgets/controls",
            "children": [
              "IPY_MODEL_8c0fcb44c02b4f93a08b9c2413fbf444",
              "IPY_MODEL_adb64ae1311849a9a4a8c1c986edd886",
              "IPY_MODEL_23678f122fda49b292260700193b0935"
            ]
          }
        },
        "ac27ac28d2f5463398d749c7e11bc03b": {
          "model_module": "@jupyter-widgets/base",
          "model_name": "LayoutModel",
          "state": {
            "_view_name": "LayoutView",
            "grid_template_rows": null,
            "right": null,
            "justify_content": null,
            "_view_module": "@jupyter-widgets/base",
            "overflow": null,
            "_model_module_version": "1.2.0",
            "_view_count": null,
            "flex_flow": null,
            "width": null,
            "min_width": null,
            "border": null,
            "align_items": null,
            "bottom": null,
            "_model_module": "@jupyter-widgets/base",
            "top": null,
            "grid_column": null,
            "overflow_y": null,
            "overflow_x": null,
            "grid_auto_flow": null,
            "grid_area": null,
            "grid_template_columns": null,
            "flex": null,
            "_model_name": "LayoutModel",
            "justify_items": null,
            "grid_row": null,
            "max_height": null,
            "align_content": null,
            "visibility": null,
            "align_self": null,
            "height": null,
            "min_height": null,
            "padding": null,
            "grid_auto_rows": null,
            "grid_gap": null,
            "max_width": null,
            "order": null,
            "_view_module_version": "1.2.0",
            "grid_template_areas": null,
            "object_position": null,
            "object_fit": null,
            "grid_auto_columns": null,
            "margin": null,
            "display": null,
            "left": null
          }
        },
        "8c0fcb44c02b4f93a08b9c2413fbf444": {
          "model_module": "@jupyter-widgets/controls",
          "model_name": "HTMLModel",
          "state": {
            "_view_name": "HTMLView",
            "style": "IPY_MODEL_b4c3c593621249c9926889cb3fccdba0",
            "_dom_classes": [],
            "description": "",
            "_model_name": "HTMLModel",
            "placeholder": "​",
            "_view_module": "@jupyter-widgets/controls",
            "_model_module_version": "1.5.0",
            "value": " 97%",
            "_view_count": null,
            "_view_module_version": "1.5.0",
            "description_tooltip": null,
            "_model_module": "@jupyter-widgets/controls",
            "layout": "IPY_MODEL_a74f34e9586e4304b61efff65d413cff"
          }
        },
        "adb64ae1311849a9a4a8c1c986edd886": {
          "model_module": "@jupyter-widgets/controls",
          "model_name": "FloatProgressModel",
          "state": {
            "_view_name": "ProgressView",
            "style": "IPY_MODEL_70d8b368bd874a939a4e741518dc86c4",
            "_dom_classes": [],
            "description": "",
            "_model_name": "FloatProgressModel",
            "bar_style": "danger",
            "max": 100,
            "_view_module": "@jupyter-widgets/controls",
            "_model_module_version": "1.5.0",
            "value": 97,
            "_view_count": null,
            "_view_module_version": "1.5.0",
            "orientation": "horizontal",
            "min": 0,
            "description_tooltip": null,
            "_model_module": "@jupyter-widgets/controls",
            "layout": "IPY_MODEL_9814a33799e343bc8e82267d0dde99b7"
          }
        },
        "23678f122fda49b292260700193b0935": {
          "model_module": "@jupyter-widgets/controls",
          "model_name": "HTMLModel",
          "state": {
            "_view_name": "HTMLView",
            "style": "IPY_MODEL_889731f3836c4099b673c41dee19a90d",
            "_dom_classes": [],
            "description": "",
            "_model_name": "HTMLModel",
            "placeholder": "​",
            "_view_module": "@jupyter-widgets/controls",
            "_model_module_version": "1.5.0",
            "value": " 97/100 [00:00&lt;00:00, 234.99it/s]",
            "_view_count": null,
            "_view_module_version": "1.5.0",
            "description_tooltip": null,
            "_model_module": "@jupyter-widgets/controls",
            "layout": "IPY_MODEL_ffe5da7acf50415fa359ecd1d8326bd3"
          }
        },
        "b4c3c593621249c9926889cb3fccdba0": {
          "model_module": "@jupyter-widgets/controls",
          "model_name": "DescriptionStyleModel",
          "state": {
            "_view_name": "StyleView",
            "_model_name": "DescriptionStyleModel",
            "description_width": "",
            "_view_module": "@jupyter-widgets/base",
            "_model_module_version": "1.5.0",
            "_view_count": null,
            "_view_module_version": "1.2.0",
            "_model_module": "@jupyter-widgets/controls"
          }
        },
        "a74f34e9586e4304b61efff65d413cff": {
          "model_module": "@jupyter-widgets/base",
          "model_name": "LayoutModel",
          "state": {
            "_view_name": "LayoutView",
            "grid_template_rows": null,
            "right": null,
            "justify_content": null,
            "_view_module": "@jupyter-widgets/base",
            "overflow": null,
            "_model_module_version": "1.2.0",
            "_view_count": null,
            "flex_flow": null,
            "width": null,
            "min_width": null,
            "border": null,
            "align_items": null,
            "bottom": null,
            "_model_module": "@jupyter-widgets/base",
            "top": null,
            "grid_column": null,
            "overflow_y": null,
            "overflow_x": null,
            "grid_auto_flow": null,
            "grid_area": null,
            "grid_template_columns": null,
            "flex": null,
            "_model_name": "LayoutModel",
            "justify_items": null,
            "grid_row": null,
            "max_height": null,
            "align_content": null,
            "visibility": null,
            "align_self": null,
            "height": null,
            "min_height": null,
            "padding": null,
            "grid_auto_rows": null,
            "grid_gap": null,
            "max_width": null,
            "order": null,
            "_view_module_version": "1.2.0",
            "grid_template_areas": null,
            "object_position": null,
            "object_fit": null,
            "grid_auto_columns": null,
            "margin": null,
            "display": null,
            "left": null
          }
        },
        "70d8b368bd874a939a4e741518dc86c4": {
          "model_module": "@jupyter-widgets/controls",
          "model_name": "ProgressStyleModel",
          "state": {
            "_view_name": "StyleView",
            "_model_name": "ProgressStyleModel",
            "description_width": "",
            "_view_module": "@jupyter-widgets/base",
            "_model_module_version": "1.5.0",
            "_view_count": null,
            "_view_module_version": "1.2.0",
            "bar_color": null,
            "_model_module": "@jupyter-widgets/controls"
          }
        },
        "9814a33799e343bc8e82267d0dde99b7": {
          "model_module": "@jupyter-widgets/base",
          "model_name": "LayoutModel",
          "state": {
            "_view_name": "LayoutView",
            "grid_template_rows": null,
            "right": null,
            "justify_content": null,
            "_view_module": "@jupyter-widgets/base",
            "overflow": null,
            "_model_module_version": "1.2.0",
            "_view_count": null,
            "flex_flow": null,
            "width": null,
            "min_width": null,
            "border": null,
            "align_items": null,
            "bottom": null,
            "_model_module": "@jupyter-widgets/base",
            "top": null,
            "grid_column": null,
            "overflow_y": null,
            "overflow_x": null,
            "grid_auto_flow": null,
            "grid_area": null,
            "grid_template_columns": null,
            "flex": null,
            "_model_name": "LayoutModel",
            "justify_items": null,
            "grid_row": null,
            "max_height": null,
            "align_content": null,
            "visibility": null,
            "align_self": null,
            "height": null,
            "min_height": null,
            "padding": null,
            "grid_auto_rows": null,
            "grid_gap": null,
            "max_width": null,
            "order": null,
            "_view_module_version": "1.2.0",
            "grid_template_areas": null,
            "object_position": null,
            "object_fit": null,
            "grid_auto_columns": null,
            "margin": null,
            "display": null,
            "left": null
          }
        },
        "889731f3836c4099b673c41dee19a90d": {
          "model_module": "@jupyter-widgets/controls",
          "model_name": "DescriptionStyleModel",
          "state": {
            "_view_name": "StyleView",
            "_model_name": "DescriptionStyleModel",
            "description_width": "",
            "_view_module": "@jupyter-widgets/base",
            "_model_module_version": "1.5.0",
            "_view_count": null,
            "_view_module_version": "1.2.0",
            "_model_module": "@jupyter-widgets/controls"
          }
        },
        "ffe5da7acf50415fa359ecd1d8326bd3": {
          "model_module": "@jupyter-widgets/base",
          "model_name": "LayoutModel",
          "state": {
            "_view_name": "LayoutView",
            "grid_template_rows": null,
            "right": null,
            "justify_content": null,
            "_view_module": "@jupyter-widgets/base",
            "overflow": null,
            "_model_module_version": "1.2.0",
            "_view_count": null,
            "flex_flow": null,
            "width": null,
            "min_width": null,
            "border": null,
            "align_items": null,
            "bottom": null,
            "_model_module": "@jupyter-widgets/base",
            "top": null,
            "grid_column": null,
            "overflow_y": null,
            "overflow_x": null,
            "grid_auto_flow": null,
            "grid_area": null,
            "grid_template_columns": null,
            "flex": null,
            "_model_name": "LayoutModel",
            "justify_items": null,
            "grid_row": null,
            "max_height": null,
            "align_content": null,
            "visibility": null,
            "align_self": null,
            "height": null,
            "min_height": null,
            "padding": null,
            "grid_auto_rows": null,
            "grid_gap": null,
            "max_width": null,
            "order": null,
            "_view_module_version": "1.2.0",
            "grid_template_areas": null,
            "object_position": null,
            "object_fit": null,
            "grid_auto_columns": null,
            "margin": null,
            "display": null,
            "left": null
          }
        }
      }
    }
  },
  "cells": [
    {
      "cell_type": "markdown",
      "metadata": {
        "id": "view-in-github",
        "colab_type": "text"
      },
      "source": [
        "<a href=\"https://colab.research.google.com/github/Annie-Yeeun-Jang/dacon_timeseries/blob/main/neural_prophet_baseline_%EC%98%88%EC%9D%80_0512.ipynb\" target=\"_parent\"><img src=\"https://colab.research.google.com/assets/colab-badge.svg\" alt=\"Open In Colab\"/></a>"
      ]
    },
    {
      "cell_type": "code",
      "metadata": {
        "colab": {
          "base_uri": "https://localhost:8080/"
        },
        "id": "GZH8BEfqEqQV",
        "outputId": "4f0c17ec-9db3-4b33-aeca-d29c121dc8f0"
      },
      "source": [
        "from google.colab import drive \n",
        "\n",
        "drive.mount('/content/gdrive/')"
      ],
      "execution_count": null,
      "outputs": [
        {
          "output_type": "stream",
          "text": [
            "Mounted at /content/gdrive/\n"
          ],
          "name": "stdout"
        }
      ]
    },
    {
      "cell_type": "code",
      "metadata": {
        "id": "Iby_mh1b3a_q"
      },
      "source": [
        "import pandas as pd\n",
        "from glob import glob\n",
        "from PIL import Image\n",
        "import os\n",
        "os.chdir('/content/gdrive/My Drive/dacon_timeseries')"
      ],
      "execution_count": null,
      "outputs": []
    },
    {
      "cell_type": "code",
      "metadata": {
        "id": "uB6_IC3Hoax3"
      },
      "source": [
        "!pip install neuralprophet"
      ],
      "execution_count": null,
      "outputs": []
    },
    {
      "cell_type": "code",
      "metadata": {
        "id": "eNSWBWYKGmQq"
      },
      "source": [
        "dangjin_fcst_data = pd.read_csv('dangjin_fcst_data.csv')\n",
        "dangjin_obs_data = pd.read_csv('dangjin_obs_data.csv')\n",
        "energy = pd.read_csv('energy.csv') # 발전소별 발전량\n",
        "sample_submission = pd.read_csv('sample_submission.csv')\n",
        "site_info = pd.read_csv('site_info.csv') # 발전소 정보\n",
        "ulsan_fcst_data = pd.read_csv('ulsan_fcst_data.csv')\n",
        "ulsan_obs_data = pd.read_csv('ulsan_obs_data.csv')"
      ],
      "execution_count": null,
      "outputs": []
    },
    {
      "cell_type": "markdown",
      "metadata": {
        "id": "dmtZh7BHbG9F"
      },
      "source": [
        "# EDA"
      ]
    },
    {
      "cell_type": "code",
      "metadata": {
        "id": "jHOmsZ4tfyF0"
      },
      "source": [
        "import pandas as pd\n",
        "import numpy as np\n",
        "from datetime import timedelta\n",
        "from glob import glob\n",
        "import plotly.express as px\n",
        "from neuralprophet import NeuralProphet\n",
        "\n",
        "## plotly.io를 import 한 후 renderers 기본값을 꼭 \"notebook_connected\" 로 설정해주시기 바랍니다.\n",
        "import plotly.io as pio\n",
        "pio.renderers.default = \"notebook_connected\""
      ],
      "execution_count": null,
      "outputs": []
    },
    {
      "cell_type": "markdown",
      "metadata": {
        "id": "RKIlj_cfGsIK"
      },
      "source": [
        "## __site_info.csv - 발전소 정보__  \n",
        "- Id : 사이트 식별자\n",
        "- Capacity : 발전소 발전용량(MW)\n",
        "- Address : 주소\n",
        "- InstallationAngle : 설치각(º)\n",
        "- IncidentAngle : 입사각(º)\n",
        "- Latitude : 위도\n",
        "- Longitude : 경도"
      ]
    },
    {
      "cell_type": "code",
      "metadata": {
        "colab": {
          "base_uri": "https://localhost:8080/",
          "height": 166
        },
        "id": "vuW1FBQJGmWk",
        "outputId": "8e7540c8-5fc3-4113-c285-3d1b8e46acd0"
      },
      "source": [
        "site_info"
      ],
      "execution_count": null,
      "outputs": [
        {
          "output_type": "execute_result",
          "data": {
            "text/html": [
              "<div>\n",
              "<style scoped>\n",
              "    .dataframe tbody tr th:only-of-type {\n",
              "        vertical-align: middle;\n",
              "    }\n",
              "\n",
              "    .dataframe tbody tr th {\n",
              "        vertical-align: top;\n",
              "    }\n",
              "\n",
              "    .dataframe thead th {\n",
              "        text-align: right;\n",
              "    }\n",
              "</style>\n",
              "<table border=\"1\" class=\"dataframe\">\n",
              "  <thead>\n",
              "    <tr style=\"text-align: right;\">\n",
              "      <th></th>\n",
              "      <th>Id</th>\n",
              "      <th>Capacity</th>\n",
              "      <th>Address</th>\n",
              "      <th>InstallationAngle</th>\n",
              "      <th>IncidentAngle</th>\n",
              "      <th>Latitude</th>\n",
              "      <th>Longitude</th>\n",
              "    </tr>\n",
              "  </thead>\n",
              "  <tbody>\n",
              "    <tr>\n",
              "      <th>0</th>\n",
              "      <td>당진수상태양광</td>\n",
              "      <td>1.0</td>\n",
              "      <td>충남 당진시 석문면 교로길 30</td>\n",
              "      <td>30.0</td>\n",
              "      <td>30.0</td>\n",
              "      <td>37.050753</td>\n",
              "      <td>126.510299</td>\n",
              "    </tr>\n",
              "    <tr>\n",
              "      <th>1</th>\n",
              "      <td>당진자재창고태양광</td>\n",
              "      <td>0.7</td>\n",
              "      <td>충남 당진시 석문면 교로길 30</td>\n",
              "      <td>30.0</td>\n",
              "      <td>30.0</td>\n",
              "      <td>37.050753</td>\n",
              "      <td>126.510299</td>\n",
              "    </tr>\n",
              "    <tr>\n",
              "      <th>2</th>\n",
              "      <td>당진태양광</td>\n",
              "      <td>1.0</td>\n",
              "      <td>충남 당진시 석문면 교로길 30</td>\n",
              "      <td>30.0</td>\n",
              "      <td>30.0</td>\n",
              "      <td>37.050753</td>\n",
              "      <td>126.510299</td>\n",
              "    </tr>\n",
              "    <tr>\n",
              "      <th>3</th>\n",
              "      <td>울산태양광</td>\n",
              "      <td>0.5</td>\n",
              "      <td>울산광역시 남구 용잠로 623</td>\n",
              "      <td>20.0</td>\n",
              "      <td>20.0</td>\n",
              "      <td>35.477651</td>\n",
              "      <td>129.380778</td>\n",
              "    </tr>\n",
              "  </tbody>\n",
              "</table>\n",
              "</div>"
            ],
            "text/plain": [
              "          Id  Capacity            Address  ...  IncidentAngle   Latitude   Longitude\n",
              "0    당진수상태양광       1.0  충남 당진시 석문면 교로길 30  ...           30.0  37.050753  126.510299\n",
              "1  당진자재창고태양광       0.7  충남 당진시 석문면 교로길 30  ...           30.0  37.050753  126.510299\n",
              "2      당진태양광       1.0  충남 당진시 석문면 교로길 30  ...           30.0  37.050753  126.510299\n",
              "3      울산태양광       0.5   울산광역시 남구 용잠로 623  ...           20.0  35.477651  129.380778\n",
              "\n",
              "[4 rows x 7 columns]"
            ]
          },
          "metadata": {
            "tags": []
          },
          "execution_count": 9
        }
      ]
    },
    {
      "cell_type": "markdown",
      "metadata": {
        "id": "4lBhEOpeG40G"
      },
      "source": [
        "## __energy.csv - 발전소별 발전량__\n",
        "- time : 1시간 단위 계량된 시간  \n",
        "  (ex-2018-03-01 1:00:00 => 2018-03-01 00:00:00 ~ 2018-03-01 1:00:00 1시간동안 발전량 계량)\n",
        "- dangjin_floating : 당진수상태양광 발전량(KW)\n",
        "- dangjin_warehouse : 당진자재창고태양광 발전량(KW)\n",
        "- dangjin : 당진태양광 발전량(KW)\n",
        "- ulsan : 울산태양광 발전량(KW)"
      ]
    },
    {
      "cell_type": "code",
      "metadata": {
        "colab": {
          "base_uri": "https://localhost:8080/"
        },
        "id": "GoqjpK4cfWqK",
        "outputId": "c3660fa3-3723-49dc-a407-fb2e95024f3a"
      },
      "source": [
        "energy.shape"
      ],
      "execution_count": null,
      "outputs": [
        {
          "output_type": "execute_result",
          "data": {
            "text/plain": [
              "(25632, 5)"
            ]
          },
          "metadata": {
            "tags": []
          },
          "execution_count": 10
        }
      ]
    },
    {
      "cell_type": "code",
      "metadata": {
        "colab": {
          "base_uri": "https://localhost:8080/",
          "height": 402
        },
        "id": "ZHlSKf2hGMXk",
        "outputId": "63e1e4bb-37f7-4e46-baec-2f30cc6bda06"
      },
      "source": [
        "energy # 2018-3-1 ~ 2021-1-31 1시간 단위로 기록된 각 발전소별 발전량 데이터"
      ],
      "execution_count": null,
      "outputs": [
        {
          "output_type": "execute_result",
          "data": {
            "text/html": [
              "<div>\n",
              "<style scoped>\n",
              "    .dataframe tbody tr th:only-of-type {\n",
              "        vertical-align: middle;\n",
              "    }\n",
              "\n",
              "    .dataframe tbody tr th {\n",
              "        vertical-align: top;\n",
              "    }\n",
              "\n",
              "    .dataframe thead th {\n",
              "        text-align: right;\n",
              "    }\n",
              "</style>\n",
              "<table border=\"1\" class=\"dataframe\">\n",
              "  <thead>\n",
              "    <tr style=\"text-align: right;\">\n",
              "      <th></th>\n",
              "      <th>time</th>\n",
              "      <th>dangjin_floating</th>\n",
              "      <th>dangjin_warehouse</th>\n",
              "      <th>dangjin</th>\n",
              "      <th>ulsan</th>\n",
              "    </tr>\n",
              "  </thead>\n",
              "  <tbody>\n",
              "    <tr>\n",
              "      <th>0</th>\n",
              "      <td>2018-03-01 1:00:00</td>\n",
              "      <td>0.0</td>\n",
              "      <td>0.0</td>\n",
              "      <td>0</td>\n",
              "      <td>0</td>\n",
              "    </tr>\n",
              "    <tr>\n",
              "      <th>1</th>\n",
              "      <td>2018-03-01 2:00:00</td>\n",
              "      <td>0.0</td>\n",
              "      <td>0.0</td>\n",
              "      <td>0</td>\n",
              "      <td>0</td>\n",
              "    </tr>\n",
              "    <tr>\n",
              "      <th>2</th>\n",
              "      <td>2018-03-01 3:00:00</td>\n",
              "      <td>0.0</td>\n",
              "      <td>0.0</td>\n",
              "      <td>0</td>\n",
              "      <td>0</td>\n",
              "    </tr>\n",
              "    <tr>\n",
              "      <th>3</th>\n",
              "      <td>2018-03-01 4:00:00</td>\n",
              "      <td>0.0</td>\n",
              "      <td>0.0</td>\n",
              "      <td>0</td>\n",
              "      <td>0</td>\n",
              "    </tr>\n",
              "    <tr>\n",
              "      <th>4</th>\n",
              "      <td>2018-03-01 5:00:00</td>\n",
              "      <td>0.0</td>\n",
              "      <td>0.0</td>\n",
              "      <td>0</td>\n",
              "      <td>0</td>\n",
              "    </tr>\n",
              "    <tr>\n",
              "      <th>...</th>\n",
              "      <td>...</td>\n",
              "      <td>...</td>\n",
              "      <td>...</td>\n",
              "      <td>...</td>\n",
              "      <td>...</td>\n",
              "    </tr>\n",
              "    <tr>\n",
              "      <th>25627</th>\n",
              "      <td>2021-01-31 20:00:00</td>\n",
              "      <td>0.0</td>\n",
              "      <td>0.0</td>\n",
              "      <td>0</td>\n",
              "      <td>0</td>\n",
              "    </tr>\n",
              "    <tr>\n",
              "      <th>25628</th>\n",
              "      <td>2021-01-31 21:00:00</td>\n",
              "      <td>0.0</td>\n",
              "      <td>0.0</td>\n",
              "      <td>0</td>\n",
              "      <td>0</td>\n",
              "    </tr>\n",
              "    <tr>\n",
              "      <th>25629</th>\n",
              "      <td>2021-01-31 22:00:00</td>\n",
              "      <td>0.0</td>\n",
              "      <td>0.0</td>\n",
              "      <td>0</td>\n",
              "      <td>0</td>\n",
              "    </tr>\n",
              "    <tr>\n",
              "      <th>25630</th>\n",
              "      <td>2021-01-31 23:00:00</td>\n",
              "      <td>0.0</td>\n",
              "      <td>0.0</td>\n",
              "      <td>0</td>\n",
              "      <td>0</td>\n",
              "    </tr>\n",
              "    <tr>\n",
              "      <th>25631</th>\n",
              "      <td>2021-01-31 24:00:00</td>\n",
              "      <td>0.0</td>\n",
              "      <td>0.0</td>\n",
              "      <td>0</td>\n",
              "      <td>0</td>\n",
              "    </tr>\n",
              "  </tbody>\n",
              "</table>\n",
              "<p>25632 rows × 5 columns</p>\n",
              "</div>"
            ],
            "text/plain": [
              "                      time  dangjin_floating  dangjin_warehouse  dangjin  ulsan\n",
              "0       2018-03-01 1:00:00               0.0                0.0        0      0\n",
              "1       2018-03-01 2:00:00               0.0                0.0        0      0\n",
              "2       2018-03-01 3:00:00               0.0                0.0        0      0\n",
              "3       2018-03-01 4:00:00               0.0                0.0        0      0\n",
              "4       2018-03-01 5:00:00               0.0                0.0        0      0\n",
              "...                    ...               ...                ...      ...    ...\n",
              "25627  2021-01-31 20:00:00               0.0                0.0        0      0\n",
              "25628  2021-01-31 21:00:00               0.0                0.0        0      0\n",
              "25629  2021-01-31 22:00:00               0.0                0.0        0      0\n",
              "25630  2021-01-31 23:00:00               0.0                0.0        0      0\n",
              "25631  2021-01-31 24:00:00               0.0                0.0        0      0\n",
              "\n",
              "[25632 rows x 5 columns]"
            ]
          },
          "metadata": {
            "tags": []
          },
          "execution_count": 11
        }
      ]
    },
    {
      "cell_type": "code",
      "metadata": {
        "id": "g7oKJ-IYHQWQ",
        "colab": {
          "base_uri": "https://localhost:8080/"
        },
        "outputId": "90998600-3252-4c63-f189-5827cd9a0f51"
      },
      "source": [
        "energy.info()"
      ],
      "execution_count": null,
      "outputs": [
        {
          "output_type": "stream",
          "text": [
            "<class 'pandas.core.frame.DataFrame'>\n",
            "RangeIndex: 25632 entries, 0 to 25631\n",
            "Data columns (total 5 columns):\n",
            " #   Column             Non-Null Count  Dtype  \n",
            "---  ------             --------------  -----  \n",
            " 0   time               25632 non-null  object \n",
            " 1   dangjin_floating   25608 non-null  float64\n",
            " 2   dangjin_warehouse  25584 non-null  float64\n",
            " 3   dangjin            25632 non-null  int64  \n",
            " 4   ulsan              25632 non-null  int64  \n",
            "dtypes: float64(2), int64(2), object(1)\n",
            "memory usage: 1001.4+ KB\n"
          ],
          "name": "stdout"
        }
      ]
    },
    {
      "cell_type": "code",
      "metadata": {
        "colab": {
          "base_uri": "https://localhost:8080/",
          "height": 284
        },
        "id": "VPZDJa8sI9L_",
        "outputId": "ca4dab1b-ad8b-4c31-bed4-7922d18b140c"
      },
      "source": [
        "energy.describe()"
      ],
      "execution_count": null,
      "outputs": [
        {
          "output_type": "execute_result",
          "data": {
            "text/html": [
              "<div>\n",
              "<style scoped>\n",
              "    .dataframe tbody tr th:only-of-type {\n",
              "        vertical-align: middle;\n",
              "    }\n",
              "\n",
              "    .dataframe tbody tr th {\n",
              "        vertical-align: top;\n",
              "    }\n",
              "\n",
              "    .dataframe thead th {\n",
              "        text-align: right;\n",
              "    }\n",
              "</style>\n",
              "<table border=\"1\" class=\"dataframe\">\n",
              "  <thead>\n",
              "    <tr style=\"text-align: right;\">\n",
              "      <th></th>\n",
              "      <th>dangjin_floating</th>\n",
              "      <th>dangjin_warehouse</th>\n",
              "      <th>dangjin</th>\n",
              "      <th>ulsan</th>\n",
              "    </tr>\n",
              "  </thead>\n",
              "  <tbody>\n",
              "    <tr>\n",
              "      <th>count</th>\n",
              "      <td>25608.000000</td>\n",
              "      <td>25584.000000</td>\n",
              "      <td>25632.000000</td>\n",
              "      <td>25632.000000</td>\n",
              "    </tr>\n",
              "    <tr>\n",
              "      <th>mean</th>\n",
              "      <td>122.056311</td>\n",
              "      <td>92.476665</td>\n",
              "      <td>139.653285</td>\n",
              "      <td>64.159761</td>\n",
              "    </tr>\n",
              "    <tr>\n",
              "      <th>std</th>\n",
              "      <td>192.041585</td>\n",
              "      <td>146.423366</td>\n",
              "      <td>220.491387</td>\n",
              "      <td>101.020447</td>\n",
              "    </tr>\n",
              "    <tr>\n",
              "      <th>min</th>\n",
              "      <td>0.000000</td>\n",
              "      <td>0.000000</td>\n",
              "      <td>0.000000</td>\n",
              "      <td>0.000000</td>\n",
              "    </tr>\n",
              "    <tr>\n",
              "      <th>25%</th>\n",
              "      <td>0.000000</td>\n",
              "      <td>0.000000</td>\n",
              "      <td>0.000000</td>\n",
              "      <td>0.000000</td>\n",
              "    </tr>\n",
              "    <tr>\n",
              "      <th>50%</th>\n",
              "      <td>0.000000</td>\n",
              "      <td>0.000000</td>\n",
              "      <td>0.000000</td>\n",
              "      <td>0.000000</td>\n",
              "    </tr>\n",
              "    <tr>\n",
              "      <th>75%</th>\n",
              "      <td>191.000000</td>\n",
              "      <td>145.000000</td>\n",
              "      <td>227.000000</td>\n",
              "      <td>101.000000</td>\n",
              "    </tr>\n",
              "    <tr>\n",
              "      <th>max</th>\n",
              "      <td>753.000000</td>\n",
              "      <td>593.000000</td>\n",
              "      <td>867.000000</td>\n",
              "      <td>392.000000</td>\n",
              "    </tr>\n",
              "  </tbody>\n",
              "</table>\n",
              "</div>"
            ],
            "text/plain": [
              "       dangjin_floating  dangjin_warehouse       dangjin         ulsan\n",
              "count      25608.000000       25584.000000  25632.000000  25632.000000\n",
              "mean         122.056311          92.476665    139.653285     64.159761\n",
              "std          192.041585         146.423366    220.491387    101.020447\n",
              "min            0.000000           0.000000      0.000000      0.000000\n",
              "25%            0.000000           0.000000      0.000000      0.000000\n",
              "50%            0.000000           0.000000      0.000000      0.000000\n",
              "75%          191.000000         145.000000    227.000000    101.000000\n",
              "max          753.000000         593.000000    867.000000    392.000000"
            ]
          },
          "metadata": {
            "tags": []
          },
          "execution_count": 13
        }
      ]
    },
    {
      "cell_type": "markdown",
      "metadata": {
        "id": "E4_Thln_Jquf"
      },
      "source": [
        "- 평균적으로 '당진'이 가장 많이 발전\n",
        "- count값이 다른 것으로 보아 결측치가 존재함을 알 수 있다."
      ]
    },
    {
      "cell_type": "code",
      "metadata": {
        "colab": {
          "base_uri": "https://localhost:8080/"
        },
        "id": "CBNi7PrKI_uy",
        "outputId": "5237028c-6da8-4afe-a10e-8faf85ed8476"
      },
      "source": [
        "energy.isnull().sum()"
      ],
      "execution_count": null,
      "outputs": [
        {
          "output_type": "execute_result",
          "data": {
            "text/plain": [
              "time                  0\n",
              "dangjin_floating     24\n",
              "dangjin_warehouse    48\n",
              "dangjin               0\n",
              "ulsan                 0\n",
              "dtype: int64"
            ]
          },
          "metadata": {
            "tags": []
          },
          "execution_count": 14
        }
      ]
    },
    {
      "cell_type": "markdown",
      "metadata": {
        "id": "1QVrcJrKJ5DO"
      },
      "source": [
        "- '당진수상', '당진자재창고'에 결측치 존재"
      ]
    },
    {
      "cell_type": "code",
      "metadata": {
        "colab": {
          "base_uri": "https://localhost:8080/"
        },
        "id": "x3eCOcOzJ4ct",
        "outputId": "e2aaa307-6377-4d73-ba90-3ddbab38c0ae"
      },
      "source": [
        "type(energy['time'])"
      ],
      "execution_count": null,
      "outputs": [
        {
          "output_type": "execute_result",
          "data": {
            "text/plain": [
              "pandas.core.series.Series"
            ]
          },
          "metadata": {
            "tags": []
          },
          "execution_count": 15
        }
      ]
    },
    {
      "cell_type": "code",
      "metadata": {
        "colab": {
          "base_uri": "https://localhost:8080/"
        },
        "id": "Z01ESxoKLFgD",
        "outputId": "379468d7-c3fb-474a-d30c-725b51619a42"
      },
      "source": [
        "energy['date'] = energy['time'].apply(lambda x: x.split()[0])\n",
        "energy['time'] = energy['time'].apply(lambda x: x.split()[1])\n",
        "energy['time'] = energy['time'].str.rjust(8,'0') # 한자릿수 시간 앞에 0 추가 ex) 3시 -> 03시\n",
        "energy['time']"
      ],
      "execution_count": null,
      "outputs": [
        {
          "output_type": "execute_result",
          "data": {
            "text/plain": [
              "0        01:00:00\n",
              "1        02:00:00\n",
              "2        03:00:00\n",
              "3        04:00:00\n",
              "4        05:00:00\n",
              "           ...   \n",
              "25627    20:00:00\n",
              "25628    21:00:00\n",
              "25629    22:00:00\n",
              "25630    23:00:00\n",
              "25631    24:00:00\n",
              "Name: time, Length: 25632, dtype: object"
            ]
          },
          "metadata": {
            "tags": []
          },
          "execution_count": 16
        }
      ]
    },
    {
      "cell_type": "code",
      "metadata": {
        "colab": {
          "base_uri": "https://localhost:8080/",
          "height": 402
        },
        "id": "CGTJkBSJJ0Qp",
        "outputId": "a4d876e4-c5de-40c2-f8aa-d4b11308a4b4"
      },
      "source": [
        "from datetime import timedelta\n",
        "\n",
        "# 24시를 00시로 바꿔주기\n",
        "energy.loc[energy['time']=='24:00:00','time'] = '00:00:00'\n",
        "energy['time'] = energy['date'] + ' ' + energy['time']\n",
        "energy['time'] = pd.to_datetime(energy['time'])\n",
        "energy.loc[energy['time'].dt.hour==0,'time'] += timedelta(days=1)\n",
        "energy"
      ],
      "execution_count": null,
      "outputs": [
        {
          "output_type": "execute_result",
          "data": {
            "text/html": [
              "<div>\n",
              "<style scoped>\n",
              "    .dataframe tbody tr th:only-of-type {\n",
              "        vertical-align: middle;\n",
              "    }\n",
              "\n",
              "    .dataframe tbody tr th {\n",
              "        vertical-align: top;\n",
              "    }\n",
              "\n",
              "    .dataframe thead th {\n",
              "        text-align: right;\n",
              "    }\n",
              "</style>\n",
              "<table border=\"1\" class=\"dataframe\">\n",
              "  <thead>\n",
              "    <tr style=\"text-align: right;\">\n",
              "      <th></th>\n",
              "      <th>time</th>\n",
              "      <th>dangjin_floating</th>\n",
              "      <th>dangjin_warehouse</th>\n",
              "      <th>dangjin</th>\n",
              "      <th>ulsan</th>\n",
              "      <th>date</th>\n",
              "    </tr>\n",
              "  </thead>\n",
              "  <tbody>\n",
              "    <tr>\n",
              "      <th>0</th>\n",
              "      <td>2018-03-01 01:00:00</td>\n",
              "      <td>0.0</td>\n",
              "      <td>0.0</td>\n",
              "      <td>0</td>\n",
              "      <td>0</td>\n",
              "      <td>2018-03-01</td>\n",
              "    </tr>\n",
              "    <tr>\n",
              "      <th>1</th>\n",
              "      <td>2018-03-01 02:00:00</td>\n",
              "      <td>0.0</td>\n",
              "      <td>0.0</td>\n",
              "      <td>0</td>\n",
              "      <td>0</td>\n",
              "      <td>2018-03-01</td>\n",
              "    </tr>\n",
              "    <tr>\n",
              "      <th>2</th>\n",
              "      <td>2018-03-01 03:00:00</td>\n",
              "      <td>0.0</td>\n",
              "      <td>0.0</td>\n",
              "      <td>0</td>\n",
              "      <td>0</td>\n",
              "      <td>2018-03-01</td>\n",
              "    </tr>\n",
              "    <tr>\n",
              "      <th>3</th>\n",
              "      <td>2018-03-01 04:00:00</td>\n",
              "      <td>0.0</td>\n",
              "      <td>0.0</td>\n",
              "      <td>0</td>\n",
              "      <td>0</td>\n",
              "      <td>2018-03-01</td>\n",
              "    </tr>\n",
              "    <tr>\n",
              "      <th>4</th>\n",
              "      <td>2018-03-01 05:00:00</td>\n",
              "      <td>0.0</td>\n",
              "      <td>0.0</td>\n",
              "      <td>0</td>\n",
              "      <td>0</td>\n",
              "      <td>2018-03-01</td>\n",
              "    </tr>\n",
              "    <tr>\n",
              "      <th>...</th>\n",
              "      <td>...</td>\n",
              "      <td>...</td>\n",
              "      <td>...</td>\n",
              "      <td>...</td>\n",
              "      <td>...</td>\n",
              "      <td>...</td>\n",
              "    </tr>\n",
              "    <tr>\n",
              "      <th>25627</th>\n",
              "      <td>2021-01-31 20:00:00</td>\n",
              "      <td>0.0</td>\n",
              "      <td>0.0</td>\n",
              "      <td>0</td>\n",
              "      <td>0</td>\n",
              "      <td>2021-01-31</td>\n",
              "    </tr>\n",
              "    <tr>\n",
              "      <th>25628</th>\n",
              "      <td>2021-01-31 21:00:00</td>\n",
              "      <td>0.0</td>\n",
              "      <td>0.0</td>\n",
              "      <td>0</td>\n",
              "      <td>0</td>\n",
              "      <td>2021-01-31</td>\n",
              "    </tr>\n",
              "    <tr>\n",
              "      <th>25629</th>\n",
              "      <td>2021-01-31 22:00:00</td>\n",
              "      <td>0.0</td>\n",
              "      <td>0.0</td>\n",
              "      <td>0</td>\n",
              "      <td>0</td>\n",
              "      <td>2021-01-31</td>\n",
              "    </tr>\n",
              "    <tr>\n",
              "      <th>25630</th>\n",
              "      <td>2021-01-31 23:00:00</td>\n",
              "      <td>0.0</td>\n",
              "      <td>0.0</td>\n",
              "      <td>0</td>\n",
              "      <td>0</td>\n",
              "      <td>2021-01-31</td>\n",
              "    </tr>\n",
              "    <tr>\n",
              "      <th>25631</th>\n",
              "      <td>2021-02-01 00:00:00</td>\n",
              "      <td>0.0</td>\n",
              "      <td>0.0</td>\n",
              "      <td>0</td>\n",
              "      <td>0</td>\n",
              "      <td>2021-01-31</td>\n",
              "    </tr>\n",
              "  </tbody>\n",
              "</table>\n",
              "<p>25632 rows × 6 columns</p>\n",
              "</div>"
            ],
            "text/plain": [
              "                     time  dangjin_floating  ...  ulsan        date\n",
              "0     2018-03-01 01:00:00               0.0  ...      0  2018-03-01\n",
              "1     2018-03-01 02:00:00               0.0  ...      0  2018-03-01\n",
              "2     2018-03-01 03:00:00               0.0  ...      0  2018-03-01\n",
              "3     2018-03-01 04:00:00               0.0  ...      0  2018-03-01\n",
              "4     2018-03-01 05:00:00               0.0  ...      0  2018-03-01\n",
              "...                   ...               ...  ...    ...         ...\n",
              "25627 2021-01-31 20:00:00               0.0  ...      0  2021-01-31\n",
              "25628 2021-01-31 21:00:00               0.0  ...      0  2021-01-31\n",
              "25629 2021-01-31 22:00:00               0.0  ...      0  2021-01-31\n",
              "25630 2021-01-31 23:00:00               0.0  ...      0  2021-01-31\n",
              "25631 2021-02-01 00:00:00               0.0  ...      0  2021-01-31\n",
              "\n",
              "[25632 rows x 6 columns]"
            ]
          },
          "metadata": {
            "tags": []
          },
          "execution_count": 17
        }
      ]
    },
    {
      "cell_type": "code",
      "metadata": {
        "colab": {
          "base_uri": "https://localhost:8080/"
        },
        "id": "YcW7Z-V5hFF1",
        "outputId": "afba7b86-ab3b-4fa4-cac0-4b7c8c80cbcc"
      },
      "source": [
        "#energy.loc[energy['time']=='24:00:00','time'] = '00:00:00'\n",
        "energy.info()"
      ],
      "execution_count": null,
      "outputs": [
        {
          "output_type": "stream",
          "text": [
            "<class 'pandas.core.frame.DataFrame'>\n",
            "RangeIndex: 25632 entries, 0 to 25631\n",
            "Data columns (total 6 columns):\n",
            " #   Column             Non-Null Count  Dtype         \n",
            "---  ------             --------------  -----         \n",
            " 0   time               25632 non-null  datetime64[ns]\n",
            " 1   dangjin_floating   25608 non-null  float64       \n",
            " 2   dangjin_warehouse  25584 non-null  float64       \n",
            " 3   dangjin            25632 non-null  int64         \n",
            " 4   ulsan              25632 non-null  int64         \n",
            " 5   date               25632 non-null  object        \n",
            "dtypes: datetime64[ns](1), float64(2), int64(2), object(1)\n",
            "memory usage: 1.2+ MB\n"
          ],
          "name": "stdout"
        }
      ]
    },
    {
      "cell_type": "code",
      "metadata": {
        "colab": {
          "base_uri": "https://localhost:8080/",
          "height": 317
        },
        "id": "9jFyUt8wj70B",
        "outputId": "255ea52f-84e7-4d0e-dec4-8d5444c1d7cc"
      },
      "source": [
        "import seaborn as sns\n",
        "import matplotlib.pyplot as plt\n",
        "\n",
        "g = sns.lineplot(x='time', y='dangjin_floating', data=energy[:24*7])\n",
        "plt.setp(g.get_xticklabels(), rotation=45)\n",
        "g = sns.lineplot(x='time', y='dangjin_warehouse', data=energy[:24*7])\n",
        "plt.setp(g.get_xticklabels(), rotation=45)\n",
        "g = sns.lineplot(x='time', y='dangjin', data=energy[:24*7])\n",
        "plt.setp(g.get_xticklabels(), rotation=45)\n",
        "g = sns.lineplot(x='time', y='ulsan', data=energy[:24*7])\n",
        "plt.setp(g.get_xticklabels(), rotation=45)\n",
        "g.set(ylabel='value')\n",
        "plt.legend(labels=['dangjin_floating', 'dangjin_warehouse', 'dangjin', 'ulsan'])\n",
        "\n",
        "plt.show()"
      ],
      "execution_count": null,
      "outputs": [
        {
          "output_type": "display_data",
          "data": {
            "image/png": "[encoded data removed]",
            "text/plain": [
              "<Figure size 432x288 with 1 Axes>"
            ]
          },
          "metadata": {
            "tags": [],
            "needs_background": "light"
          }
        }
      ]
    },
    {
      "cell_type": "markdown",
      "metadata": {
        "id": "d5GVkvyvVo5c"
      },
      "source": [
        "- 데이터의 row는 25632개가 있어 약 일주일 정도의 에너지 발전량을 시각화해보자.\n",
        "- 용량이 큰 당진이 대체로 많이 발전하고, \n",
        "- 용량이 적은 울산이 대체로 적게 발전\n",
        "- 3월 4일 경에는 모든 발전소의 발전량이 낮은데 아무래도 날씨의 영향인 것 같다."
      ]
    },
    {
      "cell_type": "code",
      "metadata": {
        "id": "919zTvzAvRdt"
      },
      "source": [
        "# time column을 분해하여 의미있을 것 같은 month와 hour로 시각화해보자.\n",
        "energy['month'] = energy['time'].dt.month\n",
        "energy['hour'] = energy['time'].dt.hour"
      ],
      "execution_count": null,
      "outputs": []
    },
    {
      "cell_type": "markdown",
      "metadata": {
        "id": "UKIJkVrcWDGX"
      },
      "source": [
        "### 월별 발전량"
      ]
    },
    {
      "cell_type": "code",
      "metadata": {
        "colab": {
          "base_uri": "https://localhost:8080/",
          "height": 279
        },
        "id": "yFyTU0zGWCqn",
        "outputId": "8ee1cc2e-0087-4eba-d8fb-a3544d778aeb"
      },
      "source": [
        "mean_month = energy.groupby('month').mean()\n",
        "g = mean_month.iloc[:,:-1].plot(kind='bar', stacked=True)\n",
        "plt.setp(g.get_xticklabels(), rotation=0)\n",
        "plt.show()"
      ],
      "execution_count": null,
      "outputs": [
        {
          "output_type": "display_data",
          "data": {
            "image/png": "[encoded data removed]",
            "text/plain": [
              "<Figure size 432x288 with 1 Axes>"
            ]
          },
          "metadata": {
            "tags": [],
            "needs_background": "light"
          }
        }
      ]
    },
    {
      "cell_type": "markdown",
      "metadata": {
        "id": "niK57sptW-jb"
      },
      "source": [
        "- 일반적으로 해가 가장 높게뜨고 기온이 높은 여름(6월~8월)에 발전량이 가장 많을 것 같지만\n",
        "- 평균적으론 봄(3월~5월)이 발전량이 더 높다.\n",
        "- 이는 태양광판넬의 입사각이 20~30도라는 점, 여름에 강수량이 많다는 점에서 충분히 이해가 갈 것 같다."
      ]
    },
    {
      "cell_type": "markdown",
      "metadata": {
        "id": "hqy5R6h_XJNl"
      },
      "source": [
        "### 시간별 발전량"
      ]
    },
    {
      "cell_type": "code",
      "metadata": {
        "colab": {
          "base_uri": "https://localhost:8080/",
          "height": 279
        },
        "id": "_B54Zp53XHu9",
        "outputId": "9d0adf79-7a01-4c27-d078-3af9f8f6b5fe"
      },
      "source": [
        "mean_hour = energy.groupby('hour').mean()\n",
        "g = mean_hour.iloc[:,:-1].plot(kind='bar', stacked=True)\n",
        "plt.setp(g.get_xticklabels(), rotation=0)\n",
        "plt.show()"
      ],
      "execution_count": null,
      "outputs": [
        {
          "output_type": "display_data",
          "data": {
            "image/png": "[encoded data removed]",
            "text/plain": [
              "<Figure size 432x288 with 1 Axes>"
            ]
          },
          "metadata": {
            "tags": [],
            "needs_background": "light"
          }
        }
      ]
    },
    {
      "cell_type": "markdown",
      "metadata": {
        "id": "4LMtyyY9XVRV"
      },
      "source": [
        "- 지난 3년간 저녁 8시부터 다음날 아침 06시까지는 발전량이 없었다.\n",
        "- 해당 시간은 0으로 초기화해도 될 것 같다.\n",
        "- 오후 1시, 2시가 평균 발전량이 가장 높았다."
      ]
    },
    {
      "cell_type": "markdown",
      "metadata": {
        "id": "nHGGGiy2XcSJ"
      },
      "source": [
        "### 발전소별 발전량 분포"
      ]
    },
    {
      "cell_type": "code",
      "metadata": {
        "colab": {
          "base_uri": "https://localhost:8080/",
          "height": 935
        },
        "id": "O7F0HyqFXHxu",
        "outputId": "40a77019-395f-480b-8a46-6332c6752a2c"
      },
      "source": [
        "cols = ['dangjin_floating','dangjin_warehouse','dangjin','ulsan']\n",
        "energy[cols][energy[cols]!=0].head(30)"
      ],
      "execution_count": null,
      "outputs": [
        {
          "output_type": "execute_result",
          "data": {
            "text/html": [
              "<div>\n",
              "<style scoped>\n",
              "    .dataframe tbody tr th:only-of-type {\n",
              "        vertical-align: middle;\n",
              "    }\n",
              "\n",
              "    .dataframe tbody tr th {\n",
              "        vertical-align: top;\n",
              "    }\n",
              "\n",
              "    .dataframe thead th {\n",
              "        text-align: right;\n",
              "    }\n",
              "</style>\n",
              "<table border=\"1\" class=\"dataframe\">\n",
              "  <thead>\n",
              "    <tr style=\"text-align: right;\">\n",
              "      <th></th>\n",
              "      <th>dangjin_floating</th>\n",
              "      <th>dangjin_warehouse</th>\n",
              "      <th>dangjin</th>\n",
              "      <th>ulsan</th>\n",
              "    </tr>\n",
              "  </thead>\n",
              "  <tbody>\n",
              "    <tr>\n",
              "      <th>0</th>\n",
              "      <td>NaN</td>\n",
              "      <td>NaN</td>\n",
              "      <td>NaN</td>\n",
              "      <td>NaN</td>\n",
              "    </tr>\n",
              "    <tr>\n",
              "      <th>1</th>\n",
              "      <td>NaN</td>\n",
              "      <td>NaN</td>\n",
              "      <td>NaN</td>\n",
              "      <td>NaN</td>\n",
              "    </tr>\n",
              "    <tr>\n",
              "      <th>2</th>\n",
              "      <td>NaN</td>\n",
              "      <td>NaN</td>\n",
              "      <td>NaN</td>\n",
              "      <td>NaN</td>\n",
              "    </tr>\n",
              "    <tr>\n",
              "      <th>3</th>\n",
              "      <td>NaN</td>\n",
              "      <td>NaN</td>\n",
              "      <td>NaN</td>\n",
              "      <td>NaN</td>\n",
              "    </tr>\n",
              "    <tr>\n",
              "      <th>4</th>\n",
              "      <td>NaN</td>\n",
              "      <td>NaN</td>\n",
              "      <td>NaN</td>\n",
              "      <td>NaN</td>\n",
              "    </tr>\n",
              "    <tr>\n",
              "      <th>5</th>\n",
              "      <td>NaN</td>\n",
              "      <td>NaN</td>\n",
              "      <td>NaN</td>\n",
              "      <td>NaN</td>\n",
              "    </tr>\n",
              "    <tr>\n",
              "      <th>6</th>\n",
              "      <td>NaN</td>\n",
              "      <td>NaN</td>\n",
              "      <td>NaN</td>\n",
              "      <td>NaN</td>\n",
              "    </tr>\n",
              "    <tr>\n",
              "      <th>7</th>\n",
              "      <td>NaN</td>\n",
              "      <td>NaN</td>\n",
              "      <td>NaN</td>\n",
              "      <td>4.0</td>\n",
              "    </tr>\n",
              "    <tr>\n",
              "      <th>8</th>\n",
              "      <td>36.0</td>\n",
              "      <td>33.0</td>\n",
              "      <td>37.0</td>\n",
              "      <td>35.0</td>\n",
              "    </tr>\n",
              "    <tr>\n",
              "      <th>9</th>\n",
              "      <td>313.0</td>\n",
              "      <td>209.0</td>\n",
              "      <td>318.0</td>\n",
              "      <td>71.0</td>\n",
              "    </tr>\n",
              "    <tr>\n",
              "      <th>10</th>\n",
              "      <td>532.0</td>\n",
              "      <td>296.0</td>\n",
              "      <td>490.0</td>\n",
              "      <td>82.0</td>\n",
              "    </tr>\n",
              "    <tr>\n",
              "      <th>11</th>\n",
              "      <td>607.0</td>\n",
              "      <td>315.0</td>\n",
              "      <td>550.0</td>\n",
              "      <td>334.0</td>\n",
              "    </tr>\n",
              "    <tr>\n",
              "      <th>12</th>\n",
              "      <td>614.0</td>\n",
              "      <td>474.0</td>\n",
              "      <td>727.0</td>\n",
              "      <td>372.0</td>\n",
              "    </tr>\n",
              "    <tr>\n",
              "      <th>13</th>\n",
              "      <td>608.0</td>\n",
              "      <td>544.0</td>\n",
              "      <td>733.0</td>\n",
              "      <td>346.0</td>\n",
              "    </tr>\n",
              "    <tr>\n",
              "      <th>14</th>\n",
              "      <td>641.0</td>\n",
              "      <td>496.0</td>\n",
              "      <td>672.0</td>\n",
              "      <td>318.0</td>\n",
              "    </tr>\n",
              "    <tr>\n",
              "      <th>15</th>\n",
              "      <td>536.0</td>\n",
              "      <td>391.0</td>\n",
              "      <td>546.0</td>\n",
              "      <td>258.0</td>\n",
              "    </tr>\n",
              "    <tr>\n",
              "      <th>16</th>\n",
              "      <td>348.0</td>\n",
              "      <td>271.0</td>\n",
              "      <td>364.0</td>\n",
              "      <td>160.0</td>\n",
              "    </tr>\n",
              "    <tr>\n",
              "      <th>17</th>\n",
              "      <td>134.0</td>\n",
              "      <td>80.0</td>\n",
              "      <td>110.0</td>\n",
              "      <td>30.0</td>\n",
              "    </tr>\n",
              "    <tr>\n",
              "      <th>18</th>\n",
              "      <td>11.0</td>\n",
              "      <td>2.0</td>\n",
              "      <td>NaN</td>\n",
              "      <td>NaN</td>\n",
              "    </tr>\n",
              "    <tr>\n",
              "      <th>19</th>\n",
              "      <td>NaN</td>\n",
              "      <td>NaN</td>\n",
              "      <td>NaN</td>\n",
              "      <td>NaN</td>\n",
              "    </tr>\n",
              "    <tr>\n",
              "      <th>20</th>\n",
              "      <td>NaN</td>\n",
              "      <td>NaN</td>\n",
              "      <td>NaN</td>\n",
              "      <td>NaN</td>\n",
              "    </tr>\n",
              "    <tr>\n",
              "      <th>21</th>\n",
              "      <td>NaN</td>\n",
              "      <td>NaN</td>\n",
              "      <td>NaN</td>\n",
              "      <td>NaN</td>\n",
              "    </tr>\n",
              "    <tr>\n",
              "      <th>22</th>\n",
              "      <td>NaN</td>\n",
              "      <td>NaN</td>\n",
              "      <td>NaN</td>\n",
              "      <td>NaN</td>\n",
              "    </tr>\n",
              "    <tr>\n",
              "      <th>23</th>\n",
              "      <td>NaN</td>\n",
              "      <td>NaN</td>\n",
              "      <td>NaN</td>\n",
              "      <td>NaN</td>\n",
              "    </tr>\n",
              "    <tr>\n",
              "      <th>24</th>\n",
              "      <td>NaN</td>\n",
              "      <td>NaN</td>\n",
              "      <td>NaN</td>\n",
              "      <td>NaN</td>\n",
              "    </tr>\n",
              "    <tr>\n",
              "      <th>25</th>\n",
              "      <td>NaN</td>\n",
              "      <td>NaN</td>\n",
              "      <td>NaN</td>\n",
              "      <td>NaN</td>\n",
              "    </tr>\n",
              "    <tr>\n",
              "      <th>26</th>\n",
              "      <td>NaN</td>\n",
              "      <td>NaN</td>\n",
              "      <td>NaN</td>\n",
              "      <td>NaN</td>\n",
              "    </tr>\n",
              "    <tr>\n",
              "      <th>27</th>\n",
              "      <td>NaN</td>\n",
              "      <td>NaN</td>\n",
              "      <td>NaN</td>\n",
              "      <td>NaN</td>\n",
              "    </tr>\n",
              "    <tr>\n",
              "      <th>28</th>\n",
              "      <td>NaN</td>\n",
              "      <td>NaN</td>\n",
              "      <td>NaN</td>\n",
              "      <td>NaN</td>\n",
              "    </tr>\n",
              "    <tr>\n",
              "      <th>29</th>\n",
              "      <td>NaN</td>\n",
              "      <td>NaN</td>\n",
              "      <td>NaN</td>\n",
              "      <td>NaN</td>\n",
              "    </tr>\n",
              "  </tbody>\n",
              "</table>\n",
              "</div>"
            ],
            "text/plain": [
              "    dangjin_floating  dangjin_warehouse  dangjin  ulsan\n",
              "0                NaN                NaN      NaN    NaN\n",
              "1                NaN                NaN      NaN    NaN\n",
              "2                NaN                NaN      NaN    NaN\n",
              "3                NaN                NaN      NaN    NaN\n",
              "4                NaN                NaN      NaN    NaN\n",
              "5                NaN                NaN      NaN    NaN\n",
              "6                NaN                NaN      NaN    NaN\n",
              "7                NaN                NaN      NaN    4.0\n",
              "8               36.0               33.0     37.0   35.0\n",
              "9              313.0              209.0    318.0   71.0\n",
              "10             532.0              296.0    490.0   82.0\n",
              "11             607.0              315.0    550.0  334.0\n",
              "12             614.0              474.0    727.0  372.0\n",
              "13             608.0              544.0    733.0  346.0\n",
              "14             641.0              496.0    672.0  318.0\n",
              "15             536.0              391.0    546.0  258.0\n",
              "16             348.0              271.0    364.0  160.0\n",
              "17             134.0               80.0    110.0   30.0\n",
              "18              11.0                2.0      NaN    NaN\n",
              "19               NaN                NaN      NaN    NaN\n",
              "20               NaN                NaN      NaN    NaN\n",
              "21               NaN                NaN      NaN    NaN\n",
              "22               NaN                NaN      NaN    NaN\n",
              "23               NaN                NaN      NaN    NaN\n",
              "24               NaN                NaN      NaN    NaN\n",
              "25               NaN                NaN      NaN    NaN\n",
              "26               NaN                NaN      NaN    NaN\n",
              "27               NaN                NaN      NaN    NaN\n",
              "28               NaN                NaN      NaN    NaN\n",
              "29               NaN                NaN      NaN    NaN"
            ]
          },
          "metadata": {
            "tags": []
          },
          "execution_count": 23
        }
      ]
    },
    {
      "cell_type": "code",
      "metadata": {
        "colab": {
          "base_uri": "https://localhost:8080/",
          "height": 402
        },
        "id": "zj9t_nJTXH2T",
        "outputId": "0a889970-78e5-428f-c540-29ef8f11b995"
      },
      "source": [
        "hhh = energy.iloc[:,1:5]\n",
        "hhh = hhh[(hhh.T != 0).any()]\n",
        "hhh"
      ],
      "execution_count": null,
      "outputs": [
        {
          "output_type": "execute_result",
          "data": {
            "text/html": [
              "<div>\n",
              "<style scoped>\n",
              "    .dataframe tbody tr th:only-of-type {\n",
              "        vertical-align: middle;\n",
              "    }\n",
              "\n",
              "    .dataframe tbody tr th {\n",
              "        vertical-align: top;\n",
              "    }\n",
              "\n",
              "    .dataframe thead th {\n",
              "        text-align: right;\n",
              "    }\n",
              "</style>\n",
              "<table border=\"1\" class=\"dataframe\">\n",
              "  <thead>\n",
              "    <tr style=\"text-align: right;\">\n",
              "      <th></th>\n",
              "      <th>dangjin_floating</th>\n",
              "      <th>dangjin_warehouse</th>\n",
              "      <th>dangjin</th>\n",
              "      <th>ulsan</th>\n",
              "    </tr>\n",
              "  </thead>\n",
              "  <tbody>\n",
              "    <tr>\n",
              "      <th>7</th>\n",
              "      <td>0.0</td>\n",
              "      <td>0.0</td>\n",
              "      <td>0</td>\n",
              "      <td>4</td>\n",
              "    </tr>\n",
              "    <tr>\n",
              "      <th>8</th>\n",
              "      <td>36.0</td>\n",
              "      <td>33.0</td>\n",
              "      <td>37</td>\n",
              "      <td>35</td>\n",
              "    </tr>\n",
              "    <tr>\n",
              "      <th>9</th>\n",
              "      <td>313.0</td>\n",
              "      <td>209.0</td>\n",
              "      <td>318</td>\n",
              "      <td>71</td>\n",
              "    </tr>\n",
              "    <tr>\n",
              "      <th>10</th>\n",
              "      <td>532.0</td>\n",
              "      <td>296.0</td>\n",
              "      <td>490</td>\n",
              "      <td>82</td>\n",
              "    </tr>\n",
              "    <tr>\n",
              "      <th>11</th>\n",
              "      <td>607.0</td>\n",
              "      <td>315.0</td>\n",
              "      <td>550</td>\n",
              "      <td>334</td>\n",
              "    </tr>\n",
              "    <tr>\n",
              "      <th>...</th>\n",
              "      <td>...</td>\n",
              "      <td>...</td>\n",
              "      <td>...</td>\n",
              "      <td>...</td>\n",
              "    </tr>\n",
              "    <tr>\n",
              "      <th>25621</th>\n",
              "      <td>397.0</td>\n",
              "      <td>261.0</td>\n",
              "      <td>468</td>\n",
              "      <td>294</td>\n",
              "    </tr>\n",
              "    <tr>\n",
              "      <th>25622</th>\n",
              "      <td>297.0</td>\n",
              "      <td>256.0</td>\n",
              "      <td>352</td>\n",
              "      <td>259</td>\n",
              "    </tr>\n",
              "    <tr>\n",
              "      <th>25623</th>\n",
              "      <td>230.0</td>\n",
              "      <td>166.0</td>\n",
              "      <td>261</td>\n",
              "      <td>196</td>\n",
              "    </tr>\n",
              "    <tr>\n",
              "      <th>25624</th>\n",
              "      <td>76.0</td>\n",
              "      <td>65.0</td>\n",
              "      <td>81</td>\n",
              "      <td>83</td>\n",
              "    </tr>\n",
              "    <tr>\n",
              "      <th>25625</th>\n",
              "      <td>10.0</td>\n",
              "      <td>6.0</td>\n",
              "      <td>0</td>\n",
              "      <td>8</td>\n",
              "    </tr>\n",
              "  </tbody>\n",
              "</table>\n",
              "<p>13128 rows × 4 columns</p>\n",
              "</div>"
            ],
            "text/plain": [
              "       dangjin_floating  dangjin_warehouse  dangjin  ulsan\n",
              "7                   0.0                0.0        0      4\n",
              "8                  36.0               33.0       37     35\n",
              "9                 313.0              209.0      318     71\n",
              "10                532.0              296.0      490     82\n",
              "11                607.0              315.0      550    334\n",
              "...                 ...                ...      ...    ...\n",
              "25621             397.0              261.0      468    294\n",
              "25622             297.0              256.0      352    259\n",
              "25623             230.0              166.0      261    196\n",
              "25624              76.0               65.0       81     83\n",
              "25625              10.0                6.0        0      8\n",
              "\n",
              "[13128 rows x 4 columns]"
            ]
          },
          "metadata": {
            "tags": []
          },
          "execution_count": 24
        }
      ]
    },
    {
      "cell_type": "code",
      "metadata": {
        "colab": {
          "base_uri": "https://localhost:8080/",
          "height": 338
        },
        "id": "ffCuFYtGXH5B",
        "outputId": "b0af1619-6b3f-4b20-fc5c-2c7abb6f436e"
      },
      "source": [
        "sns.set(style=\"darkgrid\")\n",
        "g = sns.boxplot(y=\"value\", x=\"variable\", data=pd.melt(hhh))\n",
        "plt.setp(g.get_xticklabels(), rotation=30)\n",
        "plt.show()"
      ],
      "execution_count": null,
      "outputs": [
        {
          "output_type": "display_data",
          "data": {
            "image/png": "[encoded data removed]",
            "text/plain": [
              "<Figure size 432x288 with 1 Axes>"
            ]
          },
          "metadata": {
            "tags": []
          }
        }
      ]
    },
    {
      "cell_type": "markdown",
      "metadata": {
        "id": "WWmeW7zJiEkQ"
      },
      "source": [
        "## __당진 기상관측자료__"
      ]
    },
    {
      "cell_type": "code",
      "metadata": {
        "colab": {
          "base_uri": "https://localhost:8080/"
        },
        "id": "70MiMb8AXH8c",
        "outputId": "1191acc6-26f5-4a9f-8b53-cce79e27358f"
      },
      "source": [
        "dangjin_obs_data.info()"
      ],
      "execution_count": null,
      "outputs": [
        {
          "output_type": "stream",
          "text": [
            "<class 'pandas.core.frame.DataFrame'>\n",
            "RangeIndex: 25626 entries, 0 to 25625\n",
            "Data columns (total 8 columns):\n",
            " #   Column     Non-Null Count  Dtype  \n",
            "---  ------     --------------  -----  \n",
            " 0   지점         25626 non-null  int64  \n",
            " 1   지점명        25626 non-null  object \n",
            " 2   일시         25626 non-null  object \n",
            " 3   기온(°C)     25589 non-null  float64\n",
            " 4   풍속(m/s)    25590 non-null  float64\n",
            " 5   풍향(16방위)   25590 non-null  float64\n",
            " 6   습도(%)      25591 non-null  float64\n",
            " 7   전운량(10분위)  21656 non-null  float64\n",
            "dtypes: float64(5), int64(1), object(2)\n",
            "memory usage: 1.6+ MB\n"
          ],
          "name": "stdout"
        }
      ]
    },
    {
      "cell_type": "code",
      "metadata": {
        "colab": {
          "base_uri": "https://localhost:8080/"
        },
        "id": "uA2tN4JFWCvi",
        "outputId": "52d89c04-f41e-49fb-b971-83d69f5425c7"
      },
      "source": [
        "dangjin_obs_data.isnull().sum()"
      ],
      "execution_count": null,
      "outputs": [
        {
          "output_type": "execute_result",
          "data": {
            "text/plain": [
              "지점              0\n",
              "지점명             0\n",
              "일시              0\n",
              "기온(°C)         37\n",
              "풍속(m/s)        36\n",
              "풍향(16방위)       36\n",
              "습도(%)          35\n",
              "전운량(10분위)    3970\n",
              "dtype: int64"
            ]
          },
          "metadata": {
            "tags": []
          },
          "execution_count": 27
        }
      ]
    },
    {
      "cell_type": "markdown",
      "metadata": {
        "id": "it7LytDTiVeX"
      },
      "source": [
        "- 일부 null값이 보이고 특히 전운량의 결측치가 많다. \n",
        "- 구름없이 맑은 날은 결측치로 처리됨을 예상할 수 있다.\n",
        "  - 전운량: 맑은 날이라고 가정, 0으로 fill\n",
        "  - 기온, 풍속, 풍향, 습도: 바로 앞 시간대의 관측량으로 대체, ffill"
      ]
    },
    {
      "cell_type": "code",
      "metadata": {
        "id": "MnaHHjKyV8GN"
      },
      "source": [
        "def weather_preprocessing(df):\n",
        "    df['전운량(10분위)'].fillna(0, inplace=True)\n",
        "    df.fillna(method='ffill', inplace=True)\n",
        "    df['일시'] =  pd.to_datetime(df['일시'])\n",
        "    return df"
      ],
      "execution_count": null,
      "outputs": []
    },
    {
      "cell_type": "code",
      "metadata": {
        "colab": {
          "base_uri": "https://localhost:8080/"
        },
        "id": "SpjToKK5ihoC",
        "outputId": "be298043-868d-4ea5-9c79-cfb920efb1ce"
      },
      "source": [
        "dangjin_obs_data = weather_preprocessing(dangjin_obs_data)\n",
        "dangjin_obs_data.isnull().sum()"
      ],
      "execution_count": null,
      "outputs": [
        {
          "output_type": "execute_result",
          "data": {
            "text/plain": [
              "지점           0\n",
              "지점명          0\n",
              "일시           0\n",
              "기온(°C)       0\n",
              "풍속(m/s)      0\n",
              "풍향(16방위)     0\n",
              "습도(%)        0\n",
              "전운량(10분위)    0\n",
              "dtype: int64"
            ]
          },
          "metadata": {
            "tags": []
          },
          "execution_count": 29
        }
      ]
    },
    {
      "cell_type": "markdown",
      "metadata": {
        "id": "TMa0SB2Vil0q"
      },
      "source": [
        "### 발전량과 날씨의 상관관계 (당진)"
      ]
    },
    {
      "cell_type": "code",
      "metadata": {
        "id": "Ej1hZh7oikQ2"
      },
      "source": [
        "df_joined = pd.merge(energy, dangjin_obs_data, left_on='time', right_on='일시', how='inner')\n",
        "cols = ['time','dangjin_floating', 'dangjin_warehouse', 'dangjin', '기온(°C)', '풍속(m/s)', '풍향(16방위)', '습도(%)', '전운량(10분위)']\n",
        "dangjin = df_joined[cols]"
      ],
      "execution_count": null,
      "outputs": []
    },
    {
      "cell_type": "code",
      "metadata": {
        "colab": {
          "base_uri": "https://localhost:8080/"
        },
        "id": "6HB1mg-yikTa",
        "outputId": "553b1573-bea5-4308-bfdc-6f97afabfa8a"
      },
      "source": [
        "dangjin.corr() # 날씨와의 상관계수"
      ],
      "execution_count": null,
      "outputs": [
        {
          "output_type": "execute_result",
          "data": {
            "text/html": [
              "<div>\n",
              "<style scoped>\n",
              "    .dataframe tbody tr th:only-of-type {\n",
              "        vertical-align: middle;\n",
              "    }\n",
              "\n",
              "    .dataframe tbody tr th {\n",
              "        vertical-align: top;\n",
              "    }\n",
              "\n",
              "    .dataframe thead th {\n",
              "        text-align: right;\n",
              "    }\n",
              "</style>\n",
              "<table border=\"1\" class=\"dataframe\">\n",
              "  <thead>\n",
              "    <tr style=\"text-align: right;\">\n",
              "      <th></th>\n",
              "      <th>dangjin_floating</th>\n",
              "      <th>dangjin_warehouse</th>\n",
              "      <th>dangjin</th>\n",
              "      <th>기온(°C)</th>\n",
              "      <th>풍속(m/s)</th>\n",
              "      <th>풍향(16방위)</th>\n",
              "      <th>습도(%)</th>\n",
              "      <th>전운량(10분위)</th>\n",
              "    </tr>\n",
              "  </thead>\n",
              "  <tbody>\n",
              "    <tr>\n",
              "      <th>dangjin_floating</th>\n",
              "      <td>1.000000</td>\n",
              "      <td>0.961408</td>\n",
              "      <td>0.974142</td>\n",
              "      <td>0.307088</td>\n",
              "      <td>0.438443</td>\n",
              "      <td>0.344152</td>\n",
              "      <td>-0.632884</td>\n",
              "      <td>-0.188188</td>\n",
              "    </tr>\n",
              "    <tr>\n",
              "      <th>dangjin_warehouse</th>\n",
              "      <td>0.961408</td>\n",
              "      <td>1.000000</td>\n",
              "      <td>0.972938</td>\n",
              "      <td>0.311508</td>\n",
              "      <td>0.426527</td>\n",
              "      <td>0.339161</td>\n",
              "      <td>-0.637108</td>\n",
              "      <td>-0.168499</td>\n",
              "    </tr>\n",
              "    <tr>\n",
              "      <th>dangjin</th>\n",
              "      <td>0.974142</td>\n",
              "      <td>0.972938</td>\n",
              "      <td>1.000000</td>\n",
              "      <td>0.294323</td>\n",
              "      <td>0.435736</td>\n",
              "      <td>0.348794</td>\n",
              "      <td>-0.644704</td>\n",
              "      <td>-0.185427</td>\n",
              "    </tr>\n",
              "    <tr>\n",
              "      <th>기온(°C)</th>\n",
              "      <td>0.307088</td>\n",
              "      <td>0.311508</td>\n",
              "      <td>0.294323</td>\n",
              "      <td>1.000000</td>\n",
              "      <td>0.168179</td>\n",
              "      <td>0.128834</td>\n",
              "      <td>-0.000126</td>\n",
              "      <td>0.037965</td>\n",
              "    </tr>\n",
              "    <tr>\n",
              "      <th>풍속(m/s)</th>\n",
              "      <td>0.438443</td>\n",
              "      <td>0.426527</td>\n",
              "      <td>0.435736</td>\n",
              "      <td>0.168179</td>\n",
              "      <td>1.000000</td>\n",
              "      <td>0.534637</td>\n",
              "      <td>-0.416005</td>\n",
              "      <td>0.006391</td>\n",
              "    </tr>\n",
              "    <tr>\n",
              "      <th>풍향(16방위)</th>\n",
              "      <td>0.344152</td>\n",
              "      <td>0.339161</td>\n",
              "      <td>0.348794</td>\n",
              "      <td>0.128834</td>\n",
              "      <td>0.534637</td>\n",
              "      <td>1.000000</td>\n",
              "      <td>-0.371380</td>\n",
              "      <td>-0.004386</td>\n",
              "    </tr>\n",
              "    <tr>\n",
              "      <th>습도(%)</th>\n",
              "      <td>-0.632884</td>\n",
              "      <td>-0.637108</td>\n",
              "      <td>-0.644704</td>\n",
              "      <td>-0.000126</td>\n",
              "      <td>-0.416005</td>\n",
              "      <td>-0.371380</td>\n",
              "      <td>1.000000</td>\n",
              "      <td>0.176116</td>\n",
              "    </tr>\n",
              "    <tr>\n",
              "      <th>전운량(10분위)</th>\n",
              "      <td>-0.188188</td>\n",
              "      <td>-0.168499</td>\n",
              "      <td>-0.185427</td>\n",
              "      <td>0.037965</td>\n",
              "      <td>0.006391</td>\n",
              "      <td>-0.004386</td>\n",
              "      <td>0.176116</td>\n",
              "      <td>1.000000</td>\n",
              "    </tr>\n",
              "  </tbody>\n",
              "</table>\n",
              "</div>"
            ],
            "text/plain": [
              "                   dangjin_floating  dangjin_warehouse  ...     습도(%)  전운량(10분위)\n",
              "dangjin_floating           1.000000           0.961408  ... -0.632884  -0.188188\n",
              "dangjin_warehouse          0.961408           1.000000  ... -0.637108  -0.168499\n",
              "dangjin                    0.974142           0.972938  ... -0.644704  -0.185427\n",
              "기온(°C)                     0.307088           0.311508  ... -0.000126   0.037965\n",
              "풍속(m/s)                    0.438443           0.426527  ... -0.416005   0.006391\n",
              "풍향(16방위)                   0.344152           0.339161  ... -0.371380  -0.004386\n",
              "습도(%)                     -0.632884          -0.637108  ...  1.000000   0.176116\n",
              "전운량(10분위)                 -0.188188          -0.168499  ...  0.176116   1.000000\n",
              "\n",
              "[8 rows x 8 columns]"
            ]
          },
          "metadata": {
            "tags": []
          },
          "execution_count": 31
        }
      ]
    },
    {
      "cell_type": "code",
      "metadata": {
        "colab": {
          "base_uri": "https://localhost:8080/"
        },
        "id": "xaHidpKbikV1",
        "outputId": "e4e6e444-f598-4891-9b97-eb71f81eece7"
      },
      "source": [
        "import warnings\n",
        "warnings.filterwarnings(action='ignore')\n",
        "\n",
        "plt.rcParams['font.family'] = 'Humor Sans'\n",
        "\n",
        "sns.heatmap(dangjin.corr(), annot=True, fmt='.1g')\n",
        "plt.show()"
      ],
      "execution_count": null,
      "outputs": [
        {
          "output_type": "display_data",
          "data": {
            "image/png": "[encoded data removed]",
            "text/plain": [
              "<Figure size 432x288 with 2 Axes>"
            ]
          },
          "metadata": {
            "tags": []
          }
        }
      ]
    },
    {
      "cell_type": "markdown",
      "metadata": {
        "id": "sxFjgbQolij-"
      },
      "source": [
        "- 기온은 0.3, 풍속은 0.43, 풍향은 0.4 정도의 양의 상관관계를 보이고 있으며, \n",
        "- 습도 -0.63, 전운량 -0.18 정도의 음의 상관관계를 보이고 있다.\n",
        "- 절댓값으로만 보자면 습도가 가장 상관관계가 뚜렷하다."
      ]
    },
    {
      "cell_type": "markdown",
      "metadata": {
        "id": "SQLCRIVkloAy"
      },
      "source": [
        "## __울산 기상관측자료__"
      ]
    },
    {
      "cell_type": "code",
      "metadata": {
        "colab": {
          "base_uri": "https://localhost:8080/"
        },
        "id": "P1J75-2yikZN",
        "outputId": "85af49fd-295e-4b6e-e949-da895341e247"
      },
      "source": [
        "ulsan_obs_data.info()"
      ],
      "execution_count": null,
      "outputs": [
        {
          "output_type": "stream",
          "text": [
            "<class 'pandas.core.frame.DataFrame'>\n",
            "RangeIndex: 25632 entries, 0 to 25631\n",
            "Data columns (total 8 columns):\n",
            " #   Column     Non-Null Count  Dtype  \n",
            "---  ------     --------------  -----  \n",
            " 0   지점         25632 non-null  int64  \n",
            " 1   지점명        25632 non-null  object \n",
            " 2   일시         25632 non-null  object \n",
            " 3   기온(°C)     25628 non-null  float64\n",
            " 4   풍속(m/s)    25631 non-null  float64\n",
            " 5   풍향(16방위)   25631 non-null  float64\n",
            " 6   습도(%)      25631 non-null  float64\n",
            " 7   전운량(10분위)  24807 non-null  float64\n",
            "dtypes: float64(5), int64(1), object(2)\n",
            "memory usage: 1.6+ MB\n"
          ],
          "name": "stdout"
        }
      ]
    },
    {
      "cell_type": "code",
      "metadata": {
        "colab": {
          "base_uri": "https://localhost:8080/"
        },
        "id": "IgxV2MfYikbp",
        "outputId": "7b34b7b0-167d-401e-afe0-75a1d1857f5a"
      },
      "source": [
        "ulsan_obs_data.isnull().sum()"
      ],
      "execution_count": null,
      "outputs": [
        {
          "output_type": "execute_result",
          "data": {
            "text/plain": [
              "지점             0\n",
              "지점명            0\n",
              "일시             0\n",
              "기온(°C)         4\n",
              "풍속(m/s)        1\n",
              "풍향(16방위)       1\n",
              "습도(%)          1\n",
              "전운량(10분위)    825\n",
              "dtype: int64"
            ]
          },
          "metadata": {
            "tags": []
          },
          "execution_count": 34
        }
      ]
    },
    {
      "cell_type": "code",
      "metadata": {
        "colab": {
          "base_uri": "https://localhost:8080/"
        },
        "id": "h-fR7UwWikdj",
        "outputId": "76c8f223-a3a5-4f4a-e03b-49f22b6535f4"
      },
      "source": [
        "ulsan_obs_data = weather_preprocessing(ulsan_obs_data)\n",
        "ulsan_obs_data.isnull().sum()"
      ],
      "execution_count": null,
      "outputs": [
        {
          "output_type": "execute_result",
          "data": {
            "text/plain": [
              "지점           0\n",
              "지점명          0\n",
              "일시           0\n",
              "기온(°C)       0\n",
              "풍속(m/s)      0\n",
              "풍향(16방위)     0\n",
              "습도(%)        0\n",
              "전운량(10분위)    0\n",
              "dtype: int64"
            ]
          },
          "metadata": {
            "tags": []
          },
          "execution_count": 35
        }
      ]
    },
    {
      "cell_type": "markdown",
      "metadata": {
        "id": "Mdemb6ZxlxtG"
      },
      "source": [
        "- 울산은 당진보다 상대적으로 적은 결측치를 가지고 있다. \n",
        "- 같은 방법으로 전처리\n",
        "\n"
      ]
    },
    {
      "cell_type": "markdown",
      "metadata": {
        "id": "ty1q5-xXl3OK"
      },
      "source": [
        "### 발전량과 날씨의 상관관계 (울산)"
      ]
    },
    {
      "cell_type": "code",
      "metadata": {
        "id": "AzY7dPVTikfg"
      },
      "source": [
        "df_joined = pd.merge(energy, ulsan_obs_data, left_on='time', right_on='일시', how='inner')\n",
        "cols = ['time','ulsan', '기온(°C)', '풍속(m/s)', '풍향(16방위)', '습도(%)', '전운량(10분위)']\n",
        "ulsan = df_joined[cols]"
      ],
      "execution_count": null,
      "outputs": []
    },
    {
      "cell_type": "code",
      "metadata": {
        "colab": {
          "base_uri": "https://localhost:8080/"
        },
        "id": "MWKp3XXmikiH",
        "outputId": "a669a58d-9cd1-4d7e-b2f4-5c8a03da5134"
      },
      "source": [
        "ulsan.corr() # 날씨와의 상관계수"
      ],
      "execution_count": null,
      "outputs": [
        {
          "output_type": "execute_result",
          "data": {
            "text/html": [
              "<div>\n",
              "<style scoped>\n",
              "    .dataframe tbody tr th:only-of-type {\n",
              "        vertical-align: middle;\n",
              "    }\n",
              "\n",
              "    .dataframe tbody tr th {\n",
              "        vertical-align: top;\n",
              "    }\n",
              "\n",
              "    .dataframe thead th {\n",
              "        text-align: right;\n",
              "    }\n",
              "</style>\n",
              "<table border=\"1\" class=\"dataframe\">\n",
              "  <thead>\n",
              "    <tr style=\"text-align: right;\">\n",
              "      <th></th>\n",
              "      <th>ulsan</th>\n",
              "      <th>기온(°C)</th>\n",
              "      <th>풍속(m/s)</th>\n",
              "      <th>풍향(16방위)</th>\n",
              "      <th>습도(%)</th>\n",
              "      <th>전운량(10분위)</th>\n",
              "    </tr>\n",
              "  </thead>\n",
              "  <tbody>\n",
              "    <tr>\n",
              "      <th>ulsan</th>\n",
              "      <td>1.000000</td>\n",
              "      <td>0.240879</td>\n",
              "      <td>0.307515</td>\n",
              "      <td>-0.186768</td>\n",
              "      <td>-0.447506</td>\n",
              "      <td>-0.190440</td>\n",
              "    </tr>\n",
              "    <tr>\n",
              "      <th>기온(°C)</th>\n",
              "      <td>0.240879</td>\n",
              "      <td>1.000000</td>\n",
              "      <td>-0.070631</td>\n",
              "      <td>-0.293445</td>\n",
              "      <td>0.355624</td>\n",
              "      <td>0.203843</td>\n",
              "    </tr>\n",
              "    <tr>\n",
              "      <th>풍속(m/s)</th>\n",
              "      <td>0.307515</td>\n",
              "      <td>-0.070631</td>\n",
              "      <td>1.000000</td>\n",
              "      <td>0.172195</td>\n",
              "      <td>-0.300215</td>\n",
              "      <td>-0.014533</td>\n",
              "    </tr>\n",
              "    <tr>\n",
              "      <th>풍향(16방위)</th>\n",
              "      <td>-0.186768</td>\n",
              "      <td>-0.293445</td>\n",
              "      <td>0.172195</td>\n",
              "      <td>1.000000</td>\n",
              "      <td>-0.097894</td>\n",
              "      <td>-0.057273</td>\n",
              "    </tr>\n",
              "    <tr>\n",
              "      <th>습도(%)</th>\n",
              "      <td>-0.447506</td>\n",
              "      <td>0.355624</td>\n",
              "      <td>-0.300215</td>\n",
              "      <td>-0.097894</td>\n",
              "      <td>1.000000</td>\n",
              "      <td>0.448958</td>\n",
              "    </tr>\n",
              "    <tr>\n",
              "      <th>전운량(10분위)</th>\n",
              "      <td>-0.190440</td>\n",
              "      <td>0.203843</td>\n",
              "      <td>-0.014533</td>\n",
              "      <td>-0.057273</td>\n",
              "      <td>0.448958</td>\n",
              "      <td>1.000000</td>\n",
              "    </tr>\n",
              "  </tbody>\n",
              "</table>\n",
              "</div>"
            ],
            "text/plain": [
              "              ulsan    기온(°C)   풍속(m/s)  풍향(16방위)     습도(%)  전운량(10분위)\n",
              "ulsan      1.000000  0.240879  0.307515 -0.186768 -0.447506  -0.190440\n",
              "기온(°C)     0.240879  1.000000 -0.070631 -0.293445  0.355624   0.203843\n",
              "풍속(m/s)    0.307515 -0.070631  1.000000  0.172195 -0.300215  -0.014533\n",
              "풍향(16방위)  -0.186768 -0.293445  0.172195  1.000000 -0.097894  -0.057273\n",
              "습도(%)     -0.447506  0.355624 -0.300215 -0.097894  1.000000   0.448958\n",
              "전운량(10분위) -0.190440  0.203843 -0.014533 -0.057273  0.448958   1.000000"
            ]
          },
          "metadata": {
            "tags": []
          },
          "execution_count": 37
        }
      ]
    },
    {
      "cell_type": "code",
      "metadata": {
        "colab": {
          "base_uri": "https://localhost:8080/"
        },
        "id": "kP-t7H_yijmD",
        "outputId": "9e0bdfc2-b1e5-4f90-b3de-ef685520221a"
      },
      "source": [
        "sns.heatmap(ulsan.corr(), annot=True, fmt='.1g')\n",
        "plt.show()"
      ],
      "execution_count": null,
      "outputs": [
        {
          "output_type": "display_data",
          "data": {
            "image/png": "[encoded data removed]",
            "text/plain": [
              "<Figure size 432x288 with 2 Axes>"
            ]
          },
          "metadata": {
            "tags": []
          }
        }
      ]
    },
    {
      "cell_type": "markdown",
      "metadata": {
        "id": "x-cVbImRmH59"
      },
      "source": [
        "- 울산은 당진과 다르게 풍향에서 음의 상관관계를 보이고 있다. \n",
        "- 상관계수의 절댓값이 그리 크지않은 값들이라 유의미하다고는 보기 힘들겠다."
      ]
    },
    {
      "cell_type": "markdown",
      "metadata": {
        "id": "N1d-Y3Ec1eVP"
      },
      "source": [
        "# NeuralProphet\n",
        "* Energy 값만 사용하는 방식"
      ]
    },
    {
      "cell_type": "code",
      "metadata": {
        "id": "H55J0PeRre7o"
      },
      "source": [
        "def sola_nmae(answer, pred, cap):\n",
        "    absolute_error = np.abs(answer - pred)\n",
        "    \n",
        "    absolute_error /= cap\n",
        "    \n",
        "    target_idx = np.where(answer>=cap*0.1)\n",
        "    \n",
        "    nmae = 100 * absolute_error[target_idx].mean()\n",
        "    \n",
        "    return nmae"
      ],
      "execution_count": null,
      "outputs": []
    },
    {
      "cell_type": "code",
      "metadata": {
        "id": "2D0CfoiHdwhN"
      },
      "source": [
        "# validation, 시각화를 위한 함수\n",
        "def make_val(colo, cap): \n",
        "  column = colo\n",
        "  df = pd.DataFrame()\n",
        "  df['ds'] = energy['time']\n",
        "  df['y'] = energy[column]\n",
        "  df.y = df.y.fillna(0)\n",
        "  train = df[:-24*30] #21년 1월 1일까지   #24*30이 24시간 *30일 이네\n",
        "  val = df[-24*30:] #21년 1월 2일 ~ 1월 31일\n",
        "\n",
        "# Neural Prophet 설명 - http://insightcampus.co.kr:9090/insightcommunity/?mod=document&uid=12964\n",
        "\n",
        "  model = NeuralProphet(yearly_seasonality=True, daily_seasonality=True)\n",
        "  loss = model.fit(train, freq=\"H\")\n",
        "  df_pred = model.make_future_dataframe(train, periods=24*30)  #train 데이터 이후로 periods만큼 예측\n",
        "  predict = model.predict(df_pred)\n",
        "\n",
        "  #visualization\n",
        "  plt.figure(figsize=(20,5))\n",
        "  plt.plot(np.maximum(0,predict['yhat1'].values), label='pred')\n",
        "  plt.plot(val.y.values, label='Actual') \n",
        "  plt.legend()\n",
        "  print('CV Score : ', sola_nmae(val.y.values, np.maximum(0,predict['yhat1'].values), cap))\n",
        "  plt.show()"
      ],
      "execution_count": null,
      "outputs": []
    },
    {
      "cell_type": "code",
      "metadata": {
        "colab": {
          "base_uri": "https://localhost:8080/",
          "height": 890,
          "referenced_widgets": [
            "38453ba5c9484752a5aee459c4cbb03e",
            "6cf710b736ee42649d9a0ae9f29c8b77",
            "797065ed42074b56827c0e6f8e505894",
            "72e80a6bfb674482b7b46ec33e0c3920",
            "9a5d068c285f4822af05d8ebe3d0be6d",
            "0a8909de107a458dadbc17baf8ea11c4",
            "15a4b923ef8b41bfbb211b0fa1ef3ce8",
            "9954fa833de14418b2c2337863d501e1",
            "9835699cd29b47d78802bb8360f6ddf4",
            "b6955ed8ae2a404cbfa3423040abb60c",
            "dc5be058f5064fc485538a69e397fb97",
            "b2bd7219882048f18255c9f343ce2811",
            "389140a7774747fdab8af1d04fc44b5d",
            "fce4c52b822c4bc7a3dba995e2d80f84",
            "b03aae49eeff4adf96bdd03c305b1fee",
            "0d475b55592a43878664d03aa42ec38d",
            "1e97d7f23c814768853f2ea6b8dc232e",
            "4a0b21bd9b0041e6b7843a5e07091968",
            "a192b42e4c414c4ebf721f0ef228893b",
            "d5276dac41914d0e978b4a7ab9c1b45c",
            "1c048a043dde431c977f1975e2b39cdd",
            "e5854d0c019b4b59abb8b972b0943331"
          ]
        },
        "id": "Goy8wmHHc-tA",
        "outputId": "6f710f87-9ef7-4999-e834-85d88c0b1940"
      },
      "source": [
        "make_val('dangjin_floating', 1000)\n",
        "make_val('dangjin_warehouse', 700)"
      ],
      "execution_count": null,
      "outputs": [
        {
          "output_type": "stream",
          "text": [
            "WARNING: nprophet - fit: Parts of code may break if using other than daily data.\n",
            "INFO: nprophet.config - set_auto_batch_epoch: Auto-set batch_size to 128\n",
            "INFO: nprophet.config - set_auto_batch_epoch: Auto-set epochs to 5\n"
          ],
          "name": "stderr"
        },
        {
          "output_type": "display_data",
          "data": {
            "application/vnd.jupyter.widget-view+json": {
              "model_id": "38453ba5c9484752a5aee459c4cbb03e",
              "version_minor": 0,
              "version_major": 2
            },
            "text/plain": [
              "  0%|          | 0/100 [00:00<?, ?it/s]"
            ]
          },
          "metadata": {
            "tags": []
          }
        },
        {
          "output_type": "stream",
          "text": [
            "INFO: nprophet - _lr_range_test: learning rate range test found optimal lr: 8.11E-01\n",
            "Epoch[5/5]: 100%|██████████| 5/5 [00:04<00:00,  1.24it/s, SmoothL1Loss=0.0167, MAE=72.2, RegLoss=0]\n"
          ],
          "name": "stderr"
        },
        {
          "output_type": "stream",
          "text": [
            "CV Score :  9.152600652521306\n"
          ],
          "name": "stdout"
        },
        {
          "output_type": "display_data",
          "data": {
            "image/png": "[encoded data removed]",
            "text/plain": [
              "<Figure size 1440x360 with 1 Axes>"
            ]
          },
          "metadata": {
            "tags": []
          }
        },
        {
          "output_type": "stream",
          "text": [
            "WARNING: nprophet - fit: Parts of code may break if using other than daily data.\n",
            "INFO: nprophet.config - set_auto_batch_epoch: Auto-set batch_size to 128\n",
            "INFO: nprophet.config - set_auto_batch_epoch: Auto-set epochs to 5\n"
          ],
          "name": "stderr"
        },
        {
          "output_type": "display_data",
          "data": {
            "application/vnd.jupyter.widget-view+json": {
              "model_id": "b2bd7219882048f18255c9f343ce2811",
              "version_minor": 0,
              "version_major": 2
            },
            "text/plain": [
              "  0%|          | 0/100 [00:00<?, ?it/s]"
            ]
          },
          "metadata": {
            "tags": []
          }
        },
        {
          "output_type": "stream",
          "text": [
            "INFO: nprophet - _lr_range_test: learning rate range test found optimal lr: 3.51E-01\n",
            "Epoch[5/5]: 100%|██████████| 5/5 [00:03<00:00,  1.29it/s, SmoothL1Loss=0.0159, MAE=53.7, RegLoss=0]\n"
          ],
          "name": "stderr"
        },
        {
          "output_type": "stream",
          "text": [
            "CV Score :  11.930092755131769\n"
          ],
          "name": "stdout"
        },
        {
          "output_type": "display_data",
          "data": {
            "image/png": "[encoded data removed]",
            "text/plain": [
              "<Figure size 1440x360 with 1 Axes>"
            ]
          },
          "metadata": {
            "tags": []
          }
        }
      ]
    },
    {
      "cell_type": "code",
      "metadata": {
        "colab": {
          "base_uri": "https://localhost:8080/",
          "height": 890,
          "referenced_widgets": [
            "cee5742fcf8a44cfbc694de5155bd382",
            "3aac270e5f884729901aa3c84eff6667",
            "98e0f600297a49308527320493c8f918",
            "bb96105573a54d03903393d121756163",
            "e094a9d021e04d76bbbd5397f9abe1c9",
            "45edf151bd4f4f0cab026d9f64d50cb8",
            "df49b12f07e14c979ebf4073d04cf96f",
            "0c187712e7954ae99d3a1496408126df",
            "8ddc7a4e2f804f55b1c7e7d7703536de",
            "9c5f9367fe6649078df7894ca266b7c6",
            "1989d9d50a094bd48ade96853d8dcb2f",
            "f9d5a34904a64b1baec6c563a79bf265",
            "ac27ac28d2f5463398d749c7e11bc03b",
            "8c0fcb44c02b4f93a08b9c2413fbf444",
            "adb64ae1311849a9a4a8c1c986edd886",
            "23678f122fda49b292260700193b0935",
            "b4c3c593621249c9926889cb3fccdba0",
            "a74f34e9586e4304b61efff65d413cff",
            "70d8b368bd874a939a4e741518dc86c4",
            "9814a33799e343bc8e82267d0dde99b7",
            "889731f3836c4099b673c41dee19a90d",
            "ffe5da7acf50415fa359ecd1d8326bd3"
          ]
        },
        "id": "cWn1EBD6dWeg",
        "outputId": "d82c0ce0-f4f0-4dd4-8cb6-967244458d97"
      },
      "source": [
        "make_val('dangjin', 1000)\n",
        "make_val('ulsan', 500)"
      ],
      "execution_count": null,
      "outputs": [
        {
          "output_type": "stream",
          "text": [
            "WARNING: nprophet - fit: Parts of code may break if using other than daily data.\n",
            "INFO: nprophet.config - set_auto_batch_epoch: Auto-set batch_size to 128\n",
            "INFO: nprophet.config - set_auto_batch_epoch: Auto-set epochs to 5\n"
          ],
          "name": "stderr"
        },
        {
          "output_type": "display_data",
          "data": {
            "application/vnd.jupyter.widget-view+json": {
              "model_id": "cee5742fcf8a44cfbc694de5155bd382",
              "version_minor": 0,
              "version_major": 2
            },
            "text/plain": [
              "  0%|          | 0/100 [00:00<?, ?it/s]"
            ]
          },
          "metadata": {
            "tags": []
          }
        },
        {
          "output_type": "stream",
          "text": [
            "INFO: nprophet - _lr_range_test: learning rate range test found optimal lr: 3.51E-01\n",
            "Epoch[5/5]: 100%|██████████| 5/5 [00:03<00:00,  1.44it/s, SmoothL1Loss=0.0154, MAE=79, RegLoss=0]\n"
          ],
          "name": "stderr"
        },
        {
          "output_type": "stream",
          "text": [
            "CV Score :  13.057382167859025\n"
          ],
          "name": "stdout"
        },
        {
          "output_type": "display_data",
          "data": {
            "image/png": "[encoded data removed]",
            "text/plain": [
              "<Figure size 1440x360 with 1 Axes>"
            ]
          },
          "metadata": {
            "tags": []
          }
        },
        {
          "output_type": "stream",
          "text": [
            "WARNING: nprophet - fit: Parts of code may break if using other than daily data.\n",
            "INFO: nprophet.config - set_auto_batch_epoch: Auto-set batch_size to 128\n",
            "INFO: nprophet.config - set_auto_batch_epoch: Auto-set epochs to 5\n"
          ],
          "name": "stderr"
        },
        {
          "output_type": "display_data",
          "data": {
            "application/vnd.jupyter.widget-view+json": {
              "model_id": "f9d5a34904a64b1baec6c563a79bf265",
              "version_minor": 0,
              "version_major": 2
            },
            "text/plain": [
              "  0%|          | 0/100 [00:00<?, ?it/s]"
            ]
          },
          "metadata": {
            "tags": []
          }
        },
        {
          "output_type": "stream",
          "text": [
            "INFO: nprophet - _lr_range_test: learning rate range test found optimal lr: 1.87E-01\n",
            "Epoch[5/5]: 100%|██████████| 5/5 [00:03<00:00,  1.42it/s, SmoothL1Loss=0.016, MAE=36.6, RegLoss=0]\n"
          ],
          "name": "stderr"
        },
        {
          "output_type": "stream",
          "text": [
            "CV Score :  9.49414027404785\n"
          ],
          "name": "stdout"
        },
        {
          "output_type": "display_data",
          "data": {
            "image/png": "[encoded data removed]",
            "text/plain": [
              "<Figure size 1440x360 with 1 Axes>"
            ]
          },
          "metadata": {
            "tags": []
          }
        }
      ]
    },
    {
      "cell_type": "markdown",
      "metadata": {
        "id": "XSBfSN3jdgCX"
      },
      "source": [
        "* 전반적으로 예측을 다 똑같이 하고있음을 알 수 있다..\n",
        "* 0 값을 조절(relu 적용)했더니 에러가 더 높아진 경우도 있음... 흠... 근데 오차범위인듯 ㅇㅇ"
      ]
    },
    {
      "cell_type": "code",
      "metadata": {
        "id": "trR05HARR_k8"
      },
      "source": [
        "def train(colo, cap):\n",
        "  column = colo\n",
        "  df = pd.DataFrame()\n",
        "  df['ds'] = energy['time']\n",
        "  df['y'] = energy[column]\n",
        "  df.y = df.y.fillna(0)\n",
        "\n",
        "  model = NeuralProphet(yearly_seasonality=True, daily_seasonality=True)\n",
        "  loss = model.fit(df, freq=\"H\")\n",
        "\n",
        "  #predict\n",
        "  df_pred = model.make_future_dataframe(df, periods=9000)\n",
        "  predict = model.predict(df_pred)\n",
        "\n",
        "  return predict"
      ],
      "execution_count": null,
      "outputs": []
    },
    {
      "cell_type": "code",
      "metadata": {
        "id": "8LXXMQ1TStBI"
      },
      "source": [
        "flt_pred = train('dangjin_floating', 1000)\n",
        "ware_pred = train('dangjin_warehouse', 700)\n",
        "d_pred = train('dangjin', 1000)\n",
        "u_pred = train('ulsan', 500)"
      ],
      "execution_count": null,
      "outputs": []
    },
    {
      "cell_type": "code",
      "metadata": {
        "colab": {
          "base_uri": "https://localhost:8080/",
          "height": 402
        },
        "id": "8YYvzp_bWyD3",
        "outputId": "51f1cc59-6dcf-4a5f-c9ec-cdb2ab3cdce2"
      },
      "source": [
        "flt_pred"
      ],
      "execution_count": null,
      "outputs": [
        {
          "output_type": "execute_result",
          "data": {
            "text/html": [
              "<div>\n",
              "<style scoped>\n",
              "    .dataframe tbody tr th:only-of-type {\n",
              "        vertical-align: middle;\n",
              "    }\n",
              "\n",
              "    .dataframe tbody tr th {\n",
              "        vertical-align: top;\n",
              "    }\n",
              "\n",
              "    .dataframe thead th {\n",
              "        text-align: right;\n",
              "    }\n",
              "</style>\n",
              "<table border=\"1\" class=\"dataframe\">\n",
              "  <thead>\n",
              "    <tr style=\"text-align: right;\">\n",
              "      <th></th>\n",
              "      <th>ds</th>\n",
              "      <th>y</th>\n",
              "      <th>yhat1</th>\n",
              "      <th>residual1</th>\n",
              "      <th>trend</th>\n",
              "      <th>season_yearly</th>\n",
              "      <th>season_weekly</th>\n",
              "      <th>season_daily</th>\n",
              "    </tr>\n",
              "  </thead>\n",
              "  <tbody>\n",
              "    <tr>\n",
              "      <th>0</th>\n",
              "      <td>2021-02-01 01:00:00</td>\n",
              "      <td>None</td>\n",
              "      <td>-30.429916</td>\n",
              "      <td>None</td>\n",
              "      <td>120.683838</td>\n",
              "      <td>-25.608372</td>\n",
              "      <td>-6.284947</td>\n",
              "      <td>-119.220421</td>\n",
              "    </tr>\n",
              "    <tr>\n",
              "      <th>1</th>\n",
              "      <td>2021-02-01 02:00:00</td>\n",
              "      <td>None</td>\n",
              "      <td>-32.357876</td>\n",
              "      <td>None</td>\n",
              "      <td>120.685181</td>\n",
              "      <td>-25.589367</td>\n",
              "      <td>-5.529872</td>\n",
              "      <td>-121.923813</td>\n",
              "    </tr>\n",
              "    <tr>\n",
              "      <th>2</th>\n",
              "      <td>2021-02-01 03:00:00</td>\n",
              "      <td>None</td>\n",
              "      <td>-30.787756</td>\n",
              "      <td>None</td>\n",
              "      <td>120.686508</td>\n",
              "      <td>-25.570318</td>\n",
              "      <td>-4.757649</td>\n",
              "      <td>-121.146286</td>\n",
              "    </tr>\n",
              "    <tr>\n",
              "      <th>3</th>\n",
              "      <td>2021-02-01 04:00:00</td>\n",
              "      <td>None</td>\n",
              "      <td>-27.661253</td>\n",
              "      <td>None</td>\n",
              "      <td>120.687851</td>\n",
              "      <td>-25.551241</td>\n",
              "      <td>-3.975385</td>\n",
              "      <td>-118.822479</td>\n",
              "    </tr>\n",
              "    <tr>\n",
              "      <th>4</th>\n",
              "      <td>2021-02-01 05:00:00</td>\n",
              "      <td>None</td>\n",
              "      <td>-28.162247</td>\n",
              "      <td>None</td>\n",
              "      <td>120.689163</td>\n",
              "      <td>-25.532127</td>\n",
              "      <td>-3.190204</td>\n",
              "      <td>-120.129074</td>\n",
              "    </tr>\n",
              "    <tr>\n",
              "      <th>...</th>\n",
              "      <td>...</td>\n",
              "      <td>...</td>\n",
              "      <td>...</td>\n",
              "      <td>...</td>\n",
              "      <td>...</td>\n",
              "      <td>...</td>\n",
              "      <td>...</td>\n",
              "      <td>...</td>\n",
              "    </tr>\n",
              "    <tr>\n",
              "      <th>8995</th>\n",
              "      <td>2022-02-10 20:00:00</td>\n",
              "      <td>None</td>\n",
              "      <td>-2.830078</td>\n",
              "      <td>None</td>\n",
              "      <td>132.695084</td>\n",
              "      <td>-20.077442</td>\n",
              "      <td>0.575272</td>\n",
              "      <td>-116.022987</td>\n",
              "    </tr>\n",
              "    <tr>\n",
              "      <th>8996</th>\n",
              "      <td>2022-02-10 21:00:00</td>\n",
              "      <td>None</td>\n",
              "      <td>-8.627693</td>\n",
              "      <td>None</td>\n",
              "      <td>132.696426</td>\n",
              "      <td>-20.047264</td>\n",
              "      <td>0.369107</td>\n",
              "      <td>-121.645950</td>\n",
              "    </tr>\n",
              "    <tr>\n",
              "      <th>8997</th>\n",
              "      <td>2022-02-10 22:00:00</td>\n",
              "      <td>None</td>\n",
              "      <td>-11.324429</td>\n",
              "      <td>None</td>\n",
              "      <td>132.697769</td>\n",
              "      <td>-20.017021</td>\n",
              "      <td>0.191993</td>\n",
              "      <td>-124.197166</td>\n",
              "    </tr>\n",
              "    <tr>\n",
              "      <th>8998</th>\n",
              "      <td>2022-02-10 23:00:00</td>\n",
              "      <td>None</td>\n",
              "      <td>-9.395927</td>\n",
              "      <td>None</td>\n",
              "      <td>132.699081</td>\n",
              "      <td>-19.986725</td>\n",
              "      <td>0.046648</td>\n",
              "      <td>-122.154938</td>\n",
              "    </tr>\n",
              "    <tr>\n",
              "      <th>8999</th>\n",
              "      <td>2022-02-11 00:00:00</td>\n",
              "      <td>None</td>\n",
              "      <td>-5.862602</td>\n",
              "      <td>None</td>\n",
              "      <td>132.700424</td>\n",
              "      <td>-19.956367</td>\n",
              "      <td>-0.064664</td>\n",
              "      <td>-118.542000</td>\n",
              "    </tr>\n",
              "  </tbody>\n",
              "</table>\n",
              "<p>9000 rows × 8 columns</p>\n",
              "</div>"
            ],
            "text/plain": [
              "                      ds     y  ...  season_weekly season_daily\n",
              "0    2021-02-01 01:00:00  None  ...      -6.284947  -119.220421\n",
              "1    2021-02-01 02:00:00  None  ...      -5.529872  -121.923813\n",
              "2    2021-02-01 03:00:00  None  ...      -4.757649  -121.146286\n",
              "3    2021-02-01 04:00:00  None  ...      -3.975385  -118.822479\n",
              "4    2021-02-01 05:00:00  None  ...      -3.190204  -120.129074\n",
              "...                  ...   ...  ...            ...          ...\n",
              "8995 2022-02-10 20:00:00  None  ...       0.575272  -116.022987\n",
              "8996 2022-02-10 21:00:00  None  ...       0.369107  -121.645950\n",
              "8997 2022-02-10 22:00:00  None  ...       0.191993  -124.197166\n",
              "8998 2022-02-10 23:00:00  None  ...       0.046648  -122.154938\n",
              "8999 2022-02-11 00:00:00  None  ...      -0.064664  -118.542000\n",
              "\n",
              "[9000 rows x 8 columns]"
            ]
          },
          "metadata": {
            "tags": []
          },
          "execution_count": 97
        }
      ]
    },
    {
      "cell_type": "code",
      "metadata": {
        "id": "30sSZmSSTYOx"
      },
      "source": [
        "def sub(predict, col, file):\n",
        "  # 2021-02-01 ~ 2021-03-01\n",
        "  predict_1 = predict.copy()\n",
        "  predict_1 = predict_1.query('ds >= \"2021-02-01 00:00:00\"')\n",
        "  predict_1 = predict_1.query('ds <= \"2021-03-01 00:00:00\"') #submission 파일에는28일 24시로 되어있음\n",
        "  #print(predict_1)\n",
        "  # 2021-06-09 ~ 2021-07-09\n",
        "  predict_2 = predict.copy()\n",
        "  predict_2 = predict_2.query('ds > \"2021-06-09 00:00:00\"')\n",
        "  predict_2 = predict_2.query('ds <= \"2021-07-09 00:00:00\"')\n",
        "  #print(predict_2)\n",
        "  file[col] = list(predict_1['yhat1']) + list(predict_2['yhat1'])\n",
        "  \n",
        "  return file\n"
      ],
      "execution_count": null,
      "outputs": []
    },
    {
      "cell_type": "code",
      "metadata": {
        "colab": {
          "base_uri": "https://localhost:8080/",
          "height": 321
        },
        "id": "BiRyaxx1aRIf",
        "outputId": "01671107-8cdf-474b-daa7-2a3b9b1b6876"
      },
      "source": [
        "plt.figure(figsize=(20,5))\n",
        "\n",
        "plt.plot(flt_pred.loc[:720,'yhat1'].values, label='pred')\n",
        "plt.legend()\n",
        "plt.show()"
      ],
      "execution_count": null,
      "outputs": [
        {
          "output_type": "display_data",
          "data": {
            "image/png": "[encoded data removed]",
            "text/plain": [
              "<Figure size 1440x360 with 1 Axes>"
            ]
          },
          "metadata": {
            "tags": []
          }
        }
      ]
    },
    {
      "cell_type": "code",
      "metadata": {
        "id": "XDafqa89bKbf"
      },
      "source": [
        "submission = pd.read_csv('sample_submission.csv')"
      ],
      "execution_count": null,
      "outputs": []
    },
    {
      "cell_type": "code",
      "metadata": {
        "id": "NypF3uuAUERK"
      },
      "source": [
        "sub_file = sub(flt_pred, 'dangjin_floating', submission)\n",
        "sub_file = sub(ware_pred, 'dangjin_warehouse', sub_file)\n",
        "sub_file = sub(d_pred, 'dangjin', sub_file)\n",
        "sub_file = sub(u_pred, 'ulsan', sub_file)"
      ],
      "execution_count": null,
      "outputs": []
    },
    {
      "cell_type": "code",
      "metadata": {
        "colab": {
          "base_uri": "https://localhost:8080/",
          "height": 402
        },
        "id": "GyXRLU92WoTR",
        "outputId": "43a2b107-233b-4ac4-9ea7-183ba48ab5c1"
      },
      "source": [
        "sub_file"
      ],
      "execution_count": null,
      "outputs": [
        {
          "output_type": "execute_result",
          "data": {
            "text/html": [
              "<div>\n",
              "<style scoped>\n",
              "    .dataframe tbody tr th:only-of-type {\n",
              "        vertical-align: middle;\n",
              "    }\n",
              "\n",
              "    .dataframe tbody tr th {\n",
              "        vertical-align: top;\n",
              "    }\n",
              "\n",
              "    .dataframe thead th {\n",
              "        text-align: right;\n",
              "    }\n",
              "</style>\n",
              "<table border=\"1\" class=\"dataframe\">\n",
              "  <thead>\n",
              "    <tr style=\"text-align: right;\">\n",
              "      <th></th>\n",
              "      <th>time</th>\n",
              "      <th>dangjin_floating</th>\n",
              "      <th>dangjin_warehouse</th>\n",
              "      <th>dangjin</th>\n",
              "      <th>ulsan</th>\n",
              "    </tr>\n",
              "  </thead>\n",
              "  <tbody>\n",
              "    <tr>\n",
              "      <th>0</th>\n",
              "      <td>2021-02-01 01:00:00</td>\n",
              "      <td>-30.429916</td>\n",
              "      <td>-21.596489</td>\n",
              "      <td>-29.703526</td>\n",
              "      <td>-0.359360</td>\n",
              "    </tr>\n",
              "    <tr>\n",
              "      <th>1</th>\n",
              "      <td>2021-02-01 02:00:00</td>\n",
              "      <td>-32.357876</td>\n",
              "      <td>-21.944971</td>\n",
              "      <td>-32.094849</td>\n",
              "      <td>-0.671337</td>\n",
              "    </tr>\n",
              "    <tr>\n",
              "      <th>2</th>\n",
              "      <td>2021-02-01 03:00:00</td>\n",
              "      <td>-30.787756</td>\n",
              "      <td>-21.228966</td>\n",
              "      <td>-32.996727</td>\n",
              "      <td>-1.525269</td>\n",
              "    </tr>\n",
              "    <tr>\n",
              "      <th>3</th>\n",
              "      <td>2021-02-01 04:00:00</td>\n",
              "      <td>-27.661253</td>\n",
              "      <td>-19.732038</td>\n",
              "      <td>-28.834435</td>\n",
              "      <td>-0.549088</td>\n",
              "    </tr>\n",
              "    <tr>\n",
              "      <th>4</th>\n",
              "      <td>2021-02-01 05:00:00</td>\n",
              "      <td>-28.162247</td>\n",
              "      <td>-20.916277</td>\n",
              "      <td>-26.782394</td>\n",
              "      <td>0.651203</td>\n",
              "    </tr>\n",
              "    <tr>\n",
              "      <th>...</th>\n",
              "      <td>...</td>\n",
              "      <td>...</td>\n",
              "      <td>...</td>\n",
              "      <td>...</td>\n",
              "      <td>...</td>\n",
              "    </tr>\n",
              "    <tr>\n",
              "      <th>1387</th>\n",
              "      <td>2021-07-08 20:00:00</td>\n",
              "      <td>-2.838421</td>\n",
              "      <td>1.125614</td>\n",
              "      <td>-4.498703</td>\n",
              "      <td>2.495743</td>\n",
              "    </tr>\n",
              "    <tr>\n",
              "      <th>1388</th>\n",
              "      <td>2021-07-08 21:00:00</td>\n",
              "      <td>-8.701614</td>\n",
              "      <td>1.879234</td>\n",
              "      <td>-1.354240</td>\n",
              "      <td>3.404133</td>\n",
              "    </tr>\n",
              "    <tr>\n",
              "      <th>1389</th>\n",
              "      <td>2021-07-08 22:00:00</td>\n",
              "      <td>-11.463818</td>\n",
              "      <td>0.933403</td>\n",
              "      <td>-1.983459</td>\n",
              "      <td>4.150723</td>\n",
              "    </tr>\n",
              "    <tr>\n",
              "      <th>1390</th>\n",
              "      <td>2021-07-08 23:00:00</td>\n",
              "      <td>-9.600636</td>\n",
              "      <td>0.127186</td>\n",
              "      <td>-5.160538</td>\n",
              "      <td>3.220158</td>\n",
              "    </tr>\n",
              "    <tr>\n",
              "      <th>1391</th>\n",
              "      <td>2021-07-08 24:00:00</td>\n",
              "      <td>-6.132538</td>\n",
              "      <td>2.028534</td>\n",
              "      <td>-3.504044</td>\n",
              "      <td>2.907734</td>\n",
              "    </tr>\n",
              "  </tbody>\n",
              "</table>\n",
              "<p>1392 rows × 5 columns</p>\n",
              "</div>"
            ],
            "text/plain": [
              "                     time  dangjin_floating  ...    dangjin     ulsan\n",
              "0     2021-02-01 01:00:00        -30.429916  ... -29.703526 -0.359360\n",
              "1     2021-02-01 02:00:00        -32.357876  ... -32.094849 -0.671337\n",
              "2     2021-02-01 03:00:00        -30.787756  ... -32.996727 -1.525269\n",
              "3     2021-02-01 04:00:00        -27.661253  ... -28.834435 -0.549088\n",
              "4     2021-02-01 05:00:00        -28.162247  ... -26.782394  0.651203\n",
              "...                   ...               ...  ...        ...       ...\n",
              "1387  2021-07-08 20:00:00         -2.838421  ...  -4.498703  2.495743\n",
              "1388  2021-07-08 21:00:00         -8.701614  ...  -1.354240  3.404133\n",
              "1389  2021-07-08 22:00:00        -11.463818  ...  -1.983459  4.150723\n",
              "1390  2021-07-08 23:00:00         -9.600636  ...  -5.160538  3.220158\n",
              "1391  2021-07-08 24:00:00         -6.132538  ...  -3.504044  2.907734\n",
              "\n",
              "[1392 rows x 5 columns]"
            ]
          },
          "metadata": {
            "tags": []
          },
          "execution_count": 102
        }
      ]
    },
    {
      "cell_type": "code",
      "metadata": {
        "id": "zqh783pfTRhC"
      },
      "source": [
        "sub_file.to_csv('neural_prophet_submission0512.csv', index =False)"
      ],
      "execution_count": null,
      "outputs": []
    },
    {
      "cell_type": "markdown",
      "metadata": {
        "id": "jYAseVjmJ1IH"
      },
      "source": [
        "* Prediction 그대로 냈을때 점수 13.66631 (109등 ;;)\n"
      ]
    },
    {
      "cell_type": "markdown",
      "metadata": {
        "id": "ZDMLFMbwgT_d"
      },
      "source": [
        "### 작은값 0으로 조절"
      ]
    },
    {
      "cell_type": "code",
      "metadata": {
        "id": "TRBZcwwaY-ln"
      },
      "source": [
        "def relu(x):\n",
        "  if x < 15:\n",
        "    return 0\n",
        "  else:\n",
        "    return x"
      ],
      "execution_count": null,
      "outputs": []
    },
    {
      "cell_type": "code",
      "metadata": {
        "id": "mfpzI8wzXw_a"
      },
      "source": [
        "sub_file_relu=sub_file[['dangjin_floating','dangjin_warehouse','dangjin','ulsan']].applymap(relu)"
      ],
      "execution_count": null,
      "outputs": []
    },
    {
      "cell_type": "code",
      "metadata": {
        "id": "ElWCcsU7bpMe"
      },
      "source": [
        "sub_file_relu['time']=sub_file['time']\n",
        "sub_file_relu=sub_file_relu[['time','dangjin_floating','dangjin_warehouse','dangjin','ulsan']]"
      ],
      "execution_count": null,
      "outputs": []
    },
    {
      "cell_type": "code",
      "metadata": {
        "colab": {
          "base_uri": "https://localhost:8080/",
          "height": 402
        },
        "id": "s2T5OxuxcQxP",
        "outputId": "ba922660-56d9-4f03-a0af-592b9ffe72f6"
      },
      "source": [
        "sub_file_relu"
      ],
      "execution_count": null,
      "outputs": [
        {
          "output_type": "execute_result",
          "data": {
            "text/html": [
              "<div>\n",
              "<style scoped>\n",
              "    .dataframe tbody tr th:only-of-type {\n",
              "        vertical-align: middle;\n",
              "    }\n",
              "\n",
              "    .dataframe tbody tr th {\n",
              "        vertical-align: top;\n",
              "    }\n",
              "\n",
              "    .dataframe thead th {\n",
              "        text-align: right;\n",
              "    }\n",
              "</style>\n",
              "<table border=\"1\" class=\"dataframe\">\n",
              "  <thead>\n",
              "    <tr style=\"text-align: right;\">\n",
              "      <th></th>\n",
              "      <th>time</th>\n",
              "      <th>dangjin_floating</th>\n",
              "      <th>dangjin_warehouse</th>\n",
              "      <th>dangjin</th>\n",
              "      <th>ulsan</th>\n",
              "    </tr>\n",
              "  </thead>\n",
              "  <tbody>\n",
              "    <tr>\n",
              "      <th>0</th>\n",
              "      <td>2021-02-01 01:00:00</td>\n",
              "      <td>0.0</td>\n",
              "      <td>0.000000</td>\n",
              "      <td>0.0</td>\n",
              "      <td>0.000000</td>\n",
              "    </tr>\n",
              "    <tr>\n",
              "      <th>1</th>\n",
              "      <td>2021-02-01 02:00:00</td>\n",
              "      <td>0.0</td>\n",
              "      <td>0.000000</td>\n",
              "      <td>0.0</td>\n",
              "      <td>0.000000</td>\n",
              "    </tr>\n",
              "    <tr>\n",
              "      <th>2</th>\n",
              "      <td>2021-02-01 03:00:00</td>\n",
              "      <td>0.0</td>\n",
              "      <td>0.000000</td>\n",
              "      <td>0.0</td>\n",
              "      <td>0.000000</td>\n",
              "    </tr>\n",
              "    <tr>\n",
              "      <th>3</th>\n",
              "      <td>2021-02-01 04:00:00</td>\n",
              "      <td>0.0</td>\n",
              "      <td>0.000000</td>\n",
              "      <td>0.0</td>\n",
              "      <td>0.000000</td>\n",
              "    </tr>\n",
              "    <tr>\n",
              "      <th>4</th>\n",
              "      <td>2021-02-01 05:00:00</td>\n",
              "      <td>0.0</td>\n",
              "      <td>0.000000</td>\n",
              "      <td>0.0</td>\n",
              "      <td>0.651203</td>\n",
              "    </tr>\n",
              "    <tr>\n",
              "      <th>...</th>\n",
              "      <td>...</td>\n",
              "      <td>...</td>\n",
              "      <td>...</td>\n",
              "      <td>...</td>\n",
              "      <td>...</td>\n",
              "    </tr>\n",
              "    <tr>\n",
              "      <th>1387</th>\n",
              "      <td>2021-07-08 20:00:00</td>\n",
              "      <td>0.0</td>\n",
              "      <td>1.125614</td>\n",
              "      <td>0.0</td>\n",
              "      <td>2.495743</td>\n",
              "    </tr>\n",
              "    <tr>\n",
              "      <th>1388</th>\n",
              "      <td>2021-07-08 21:00:00</td>\n",
              "      <td>0.0</td>\n",
              "      <td>1.879234</td>\n",
              "      <td>0.0</td>\n",
              "      <td>3.404133</td>\n",
              "    </tr>\n",
              "    <tr>\n",
              "      <th>1389</th>\n",
              "      <td>2021-07-08 22:00:00</td>\n",
              "      <td>0.0</td>\n",
              "      <td>0.933403</td>\n",
              "      <td>0.0</td>\n",
              "      <td>4.150723</td>\n",
              "    </tr>\n",
              "    <tr>\n",
              "      <th>1390</th>\n",
              "      <td>2021-07-08 23:00:00</td>\n",
              "      <td>0.0</td>\n",
              "      <td>0.127186</td>\n",
              "      <td>0.0</td>\n",
              "      <td>3.220158</td>\n",
              "    </tr>\n",
              "    <tr>\n",
              "      <th>1391</th>\n",
              "      <td>2021-07-08 24:00:00</td>\n",
              "      <td>0.0</td>\n",
              "      <td>2.028534</td>\n",
              "      <td>0.0</td>\n",
              "      <td>2.907734</td>\n",
              "    </tr>\n",
              "  </tbody>\n",
              "</table>\n",
              "<p>1392 rows × 5 columns</p>\n",
              "</div>"
            ],
            "text/plain": [
              "                     time  dangjin_floating  ...  dangjin     ulsan\n",
              "0     2021-02-01 01:00:00               0.0  ...      0.0  0.000000\n",
              "1     2021-02-01 02:00:00               0.0  ...      0.0  0.000000\n",
              "2     2021-02-01 03:00:00               0.0  ...      0.0  0.000000\n",
              "3     2021-02-01 04:00:00               0.0  ...      0.0  0.000000\n",
              "4     2021-02-01 05:00:00               0.0  ...      0.0  0.651203\n",
              "...                   ...               ...  ...      ...       ...\n",
              "1387  2021-07-08 20:00:00               0.0  ...      0.0  2.495743\n",
              "1388  2021-07-08 21:00:00               0.0  ...      0.0  3.404133\n",
              "1389  2021-07-08 22:00:00               0.0  ...      0.0  4.150723\n",
              "1390  2021-07-08 23:00:00               0.0  ...      0.0  3.220158\n",
              "1391  2021-07-08 24:00:00               0.0  ...      0.0  2.907734\n",
              "\n",
              "[1392 rows x 5 columns]"
            ]
          },
          "metadata": {
            "tags": []
          },
          "execution_count": 121
        }
      ]
    },
    {
      "cell_type": "code",
      "metadata": {
        "id": "XmfNuJe3NUBH"
      },
      "source": [
        "sub_file_relu.to_csv('neural_prophet_submission_relu_0512.csv', index =False)"
      ],
      "execution_count": null,
      "outputs": []
    },
    {
      "cell_type": "markdown",
      "metadata": {
        "id": "GhRzKo6cdsoz"
      },
      "source": [
        "* 놀랍게도 0으로 조정한것과 아닌것은 성능이 똑같았다.. (왜지..?)"
      ]
    },
    {
      "cell_type": "code",
      "metadata": {
        "id": "50rBYIEDdxdm"
      },
      "source": [
        ""
      ],
      "execution_count": null,
      "outputs": []
    }
  ]
}